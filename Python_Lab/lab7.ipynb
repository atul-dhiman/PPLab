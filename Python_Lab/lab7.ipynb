{
 "cells": [
  {
   "cell_type": "markdown",
   "id": "09aaea3f",
   "metadata": {},
   "source": [
    "##### lambda function"
   ]
  },
  {
   "cell_type": "code",
   "execution_count": 1,
   "id": "0ee2f02a",
   "metadata": {},
   "outputs": [
    {
     "name": "stdout",
     "output_type": "stream",
     "text": [
      "15\n"
     ]
    }
   ],
   "source": [
    "x = lambda a : a+10\n",
    "print(x(5))"
   ]
  },
  {
   "cell_type": "code",
   "execution_count": 2,
   "id": "be84f101",
   "metadata": {},
   "outputs": [
    {
     "name": "stdout",
     "output_type": "stream",
     "text": [
      "<function myfunc.<locals>.<lambda> at 0x00000264F764D120>\n",
      "22\n"
     ]
    }
   ],
   "source": [
    "def myfunc(n):\n",
    "    return lambda a: a*n\n",
    "mydoubler=myfunc(2)\n",
    "print(mydoubler)\n",
    "print(mydoubler(11))"
   ]
  },
  {
   "cell_type": "markdown",
   "id": "1b47b916",
   "metadata": {},
   "source": [
    "### Doc strings"
   ]
  },
  {
   "cell_type": "code",
   "execution_count": 5,
   "id": "b8b5a11d",
   "metadata": {},
   "outputs": [
    {
     "name": "stdout",
     "output_type": "stream",
     "text": [
      "64\n"
     ]
    }
   ],
   "source": [
    "def square(n):\n",
    "    '''Return the square of n'''\n",
    "    return(n**2)\n",
    "print(square(8))"
   ]
  },
  {
   "cell_type": "code",
   "execution_count": 13,
   "id": "bac043dc",
   "metadata": {},
   "outputs": [
    {
     "name": "stdout",
     "output_type": "stream",
     "text": [
      "The factorial of the 0 is 1\n"
     ]
    }
   ],
   "source": [
    "num=int(input(\"Enter the number whose factorial you want to find\"))\n",
    "def fact(n):\n",
    "    if n==1 or n==0:\n",
    "        return 1\n",
    "    return (n*fact(n-1))\n",
    "print(f\"The factorial of the {num} is {fact(num)}\")"
   ]
  },
  {
   "cell_type": "code",
   "execution_count": 15,
   "id": "3b7acc47",
   "metadata": {},
   "outputs": [
    {
     "name": "stdout",
     "output_type": "stream",
     "text": [
      "The sum from 1 to 2 is: 3\n"
     ]
    }
   ],
   "source": [
    "num=int(input(\"Enter the number upto which to want the sum to be: \"))\n",
    "def summation(n):\n",
    "    if n==1:\n",
    "        return 1\n",
    "    else:\n",
    "        return num + summation (n-1)\n",
    "print(f\"The sum from 1 to {num} is: {summation(num)}\")\n"
   ]
  },
  {
   "cell_type": "code",
   "execution_count": 1,
   "id": "b29f1e97",
   "metadata": {},
   "outputs": [
    {
     "name": "stdout",
     "output_type": "stream",
     "text": [
      "The smallest number in the array is: 10\n"
     ]
    }
   ],
   "source": [
    "# find the smallest number in the list\n",
    "a=[10,20,30,40]\n",
    "def smallest(a,n):\n",
    "    if n==1:\n",
    "        return a[0]\n",
    "    else:\n",
    "        return min(a[n-1],smallest(a,n-1))\n",
    "n=len(a)\n",
    "# import pdb;pdb.set_trace()\n",
    "print(f\"The smallest number in the array is: {smallest(a,n)}\")\n",
    "# do the same without using min function"
   ]
  },
  {
   "cell_type": "markdown",
   "id": "7f106aa8",
   "metadata": {},
   "source": [
    "## Function Arguments"
   ]
  },
  {
   "cell_type": "code",
   "execution_count": 2,
   "id": "14d0a55c",
   "metadata": {},
   "outputs": [
    {
     "name": "stdout",
     "output_type": "stream",
     "text": [
      "100\n"
     ]
    }
   ],
   "source": [
    "def sum_all(*args):\n",
    "    result=0\n",
    "    for num in args:\n",
    "        result+=num\n",
    "    return result\n",
    "print(sum_all(10,20,30,40))"
   ]
  },
  {
   "cell_type": "markdown",
   "id": "6f673bd3",
   "metadata": {},
   "source": [
    "wap to print fibonacci series using recursion  \n",
    "wap to reverse a string using recursion  \n",
    "wap to calculate exponential of x and y using recursion  \n",
    "wap to shuffle a deck of cards using recursion  \n",
    "wap to calculate GCD using recursion  \n"
   ]
  },
  {
   "cell_type": "code",
   "execution_count": 5,
   "id": "943c5861",
   "metadata": {},
   "outputs": [
    {
     "name": "stdout",
     "output_type": "stream",
     "text": [
      "Fibonacci series:\n",
      "0 1 1 2 3 "
     ]
    }
   ],
   "source": [
    "def fibonacci(n):\n",
    "    if n <= 0:\n",
    "        return 0\n",
    "    elif n == 1:\n",
    "        return 1\n",
    "    else:\n",
    "        return fibonacci(n - 1) + fibonacci(n - 2)\n",
    "n = int(input(\"Enter number of terms: \"))\n",
    "print(\"Fibonacci series:\")\n",
    "for i in range(n):\n",
    "    print(fibonacci(i), end=\" \")"
   ]
  },
  {
   "cell_type": "code",
   "execution_count": 1,
   "id": "c7e216e1",
   "metadata": {},
   "outputs": [
    {
     "name": "stdout",
     "output_type": "stream",
     "text": [
      "namihD lutA\n"
     ]
    }
   ],
   "source": [
    "def rreverse(s):\n",
    "    if s == \"\":\n",
    "        return s\n",
    "    else:\n",
    "        return rreverse(s[1:]) + s[0]      \n",
    "print (rreverse(\"Atul Dhiman\"))"
   ]
  },
  {
   "cell_type": "code",
   "execution_count": 2,
   "id": "2973ea09",
   "metadata": {},
   "outputs": [
    {
     "name": "stdout",
     "output_type": "stream",
     "text": [
      "4 raised to the power 2 is: 16\n"
     ]
    }
   ],
   "source": [
    "def power(x, y):\n",
    "    # Base case: any number raised to power 0 is 1\n",
    "    if y == 0:\n",
    "        return 1\n",
    "    # Recursive case: x^y = x * x^(y-1)\n",
    "    return x * power(x, y - 1)\n",
    "\n",
    "# Taking input from user\n",
    "x = int(input(\"Enter base (x): \"))\n",
    "y = int(input(\"Enter exponent (y): \"))\n",
    "\n",
    "result = power(x, y)\n",
    "print(f\"{x} raised to the power {y} is: {result}\")\n"
   ]
  },
  {
   "cell_type": "code",
   "execution_count": 3,
   "id": "c97218e1",
   "metadata": {},
   "outputs": [
    {
     "name": "stdout",
     "output_type": "stream",
     "text": [
      "Original deck:\n",
      "['2 of Hearts', '3 of Hearts', '4 of Hearts', '5 of Hearts', '6 of Hearts', '7 of Hearts', '8 of Hearts', '9 of Hearts', '10 of Hearts', 'Jack of Hearts', 'Queen of Hearts', 'King of Hearts', 'Ace of Hearts', '2 of Diamonds', '3 of Diamonds', '4 of Diamonds', '5 of Diamonds', '6 of Diamonds', '7 of Diamonds', '8 of Diamonds', '9 of Diamonds', '10 of Diamonds', 'Jack of Diamonds', 'Queen of Diamonds', 'King of Diamonds', 'Ace of Diamonds', '2 of Clubs', '3 of Clubs', '4 of Clubs', '5 of Clubs', '6 of Clubs', '7 of Clubs', '8 of Clubs', '9 of Clubs', '10 of Clubs', 'Jack of Clubs', 'Queen of Clubs', 'King of Clubs', 'Ace of Clubs', '2 of Spades', '3 of Spades', '4 of Spades', '5 of Spades', '6 of Spades', '7 of Spades', '8 of Spades', '9 of Spades', '10 of Spades', 'Jack of Spades', 'Queen of Spades', 'King of Spades', 'Ace of Spades']\n",
      "\n",
      "Shuffled deck:\n",
      "['10 of Hearts', '6 of Diamonds', '8 of Hearts', 'Jack of Diamonds', '5 of Clubs', '4 of Spades', '8 of Spades', 'King of Clubs', 'Queen of Hearts', '10 of Diamonds', '5 of Diamonds', 'Ace of Diamonds', '9 of Diamonds', '6 of Spades', '2 of Spades', '9 of Hearts', '2 of Hearts', 'Jack of Clubs', 'Jack of Hearts', '5 of Hearts', '8 of Diamonds', '9 of Spades', '7 of Hearts', '3 of Hearts', '7 of Spades', 'King of Spades', '4 of Hearts', '6 of Clubs', '5 of Spades', '10 of Clubs', '3 of Spades', '7 of Diamonds', '2 of Diamonds', 'Ace of Clubs', 'King of Hearts', '3 of Clubs', '2 of Clubs', '8 of Clubs', '4 of Diamonds', 'Queen of Spades', 'Jack of Spades', 'Ace of Hearts', '10 of Spades', '6 of Hearts', 'Ace of Spades', '7 of Clubs', '9 of Clubs', 'King of Diamonds', 'Queen of Clubs', 'Queen of Diamonds', '3 of Diamonds', '4 of Clubs']\n"
     ]
    }
   ],
   "source": [
    "import random\n",
    "\n",
    "def shuffle_deck(deck, n=None):\n",
    "    # Initialize n as length of deck on first call\n",
    "    if n is None:\n",
    "        n = len(deck)\n",
    "    \n",
    "    # Base case: if there's only one card, nothing to shuffle\n",
    "    if n <= 1:\n",
    "        return deck\n",
    "\n",
    "    # Recursive case:\n",
    "    # Shuffle the first n-1 cards\n",
    "    deck = shuffle_deck(deck, n - 1)\n",
    "\n",
    "    j = random.randint(0, n - 1)\n",
    "\n",
    "    deck[n - 1], deck[j] = deck[j], deck[n - 1]\n",
    "\n",
    "    return deck\n",
    "\n",
    "suits = ['Hearts', 'Diamonds', 'Clubs', 'Spades']\n",
    "ranks = ['2', '3', '4', '5', '6', '7', '8', '9', '10', 'Jack', 'Queen', 'King', 'Ace']\n",
    "\n",
    "deck = [f\"{rank} of {suit}\" for suit in suits for rank in ranks]\n",
    "\n",
    "print(\"Original deck:\")\n",
    "print(deck)\n",
    "\n",
    "# Shuffle using recursion\n",
    "shuffled_deck = shuffle_deck(deck.copy())\n",
    "\n",
    "print(\"\\nShuffled deck:\")\n",
    "print(shuffled_deck)\n"
   ]
  },
  {
   "cell_type": "code",
   "execution_count": 4,
   "id": "cc74145d",
   "metadata": {},
   "outputs": [
    {
     "name": "stdout",
     "output_type": "stream",
     "text": [
      "GCD of 14 and 64 is: 2\n"
     ]
    }
   ],
   "source": [
    "def gcd(a, b):\n",
    "    if b == 0:\n",
    "        return a\n",
    "    else:\n",
    "        return gcd(b, a % b)\n",
    "\n",
    "a = int(input(\"Enter first number: \"))\n",
    "b = int(input(\"Enter second number: \"))\n",
    "\n",
    "result = gcd(a, b)\n",
    "print(f\"GCD of {a} and {b} is: {result}\")\n"
   ]
  },
  {
   "cell_type": "code",
   "execution_count": null,
   "id": "50a24914",
   "metadata": {},
   "outputs": [],
   "source": []
  }
 ],
 "metadata": {
  "kernelspec": {
   "display_name": "Python 3",
   "language": "python",
   "name": "python3"
  },
  "language_info": {
   "codemirror_mode": {
    "name": "ipython",
    "version": 3
   },
   "file_extension": ".py",
   "mimetype": "text/x-python",
   "name": "python",
   "nbconvert_exporter": "python",
   "pygments_lexer": "ipython3",
   "version": "3.13.7"
  }
 },
 "nbformat": 4,
 "nbformat_minor": 5
}
