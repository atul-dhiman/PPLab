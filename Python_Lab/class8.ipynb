{
 "cells": [
  {
   "cell_type": "markdown",
   "id": "e8041ec1",
   "metadata": {},
   "source": [
    "### Modules"
   ]
  },
  {
   "cell_type": "code",
   "execution_count": 1,
   "id": "1f7f07af",
   "metadata": {},
   "outputs": [
    {
     "name": "stdout",
     "output_type": "stream",
     "text": [
      "Hello Atul\n"
     ]
    }
   ],
   "source": [
    "import MyModule\n",
    "MyModule.say_hello(\"Atul\")"
   ]
  },
  {
   "cell_type": "code",
   "execution_count": 3,
   "id": "808b6e56",
   "metadata": {},
   "outputs": [
    {
     "name": "stdout",
     "output_type": "stream",
     "text": [
      "24\n"
     ]
    }
   ],
   "source": [
    "from MyModule import Person1\n",
    "print(Person1[\"age\"])"
   ]
  },
  {
   "cell_type": "code",
   "execution_count": null,
   "id": "0a81aeb0",
   "metadata": {},
   "outputs": [],
   "source": [
    "from math import *\n",
    "from math import sqrt,pi,factorial\n",
    "from math import sqrt as square_root\n",
    "print(square_root(81))"
   ]
  },
  {
   "cell_type": "markdown",
   "id": "a36ee02d",
   "metadata": {},
   "source": [
    "### .pyc file"
   ]
  },
  {
   "cell_type": "code",
   "execution_count": null,
   "id": "228e4c24",
   "metadata": {},
   "outputs": [],
   "source": []
  },
  {
   "cell_type": "markdown",
   "id": "4999bfad",
   "metadata": {},
   "source": [
    "### command line argument"
   ]
  },
  {
   "cell_type": "code",
   "execution_count": 7,
   "id": "502a02e5",
   "metadata": {},
   "outputs": [
    {
     "name": "stdout",
     "output_type": "stream",
     "text": [
      "['C:\\\\Users\\\\atuld\\\\AppData\\\\Roaming\\\\Python\\\\Python313\\\\site-packages\\\\ipykernel_launcher.py', '--f=c:\\\\Users\\\\atuld\\\\AppData\\\\Roaming\\\\jupyter\\\\runtime\\\\kernel-v3caa07edf1f52365b4bab1803cf78198dc6c4f59d.json']\n"
     ]
    }
   ],
   "source": [
    "import sys\n",
    "print(sys.argv)"
   ]
  },
  {
   "cell_type": "code",
   "execution_count": null,
   "id": "3a388246",
   "metadata": {},
   "outputs": [],
   "source": [
    "### wap to add two nos in cmd"
   ]
  },
  {
   "cell_type": "code",
   "execution_count": 9,
   "id": "6de265ec",
   "metadata": {},
   "outputs": [
    {
     "name": "stdout",
     "output_type": "stream",
     "text": [
      "Name of the module is __main__\n"
     ]
    }
   ],
   "source": [
    "print(\"Name of the module is\",__name__)"
   ]
  },
  {
   "cell_type": "code",
   "execution_count": null,
   "id": "6e775040",
   "metadata": {},
   "outputs": [],
   "source": []
  }
 ],
 "metadata": {
  "kernelspec": {
   "display_name": "Python 3",
   "language": "python",
   "name": "python3"
  },
  "language_info": {
   "codemirror_mode": {
    "name": "ipython",
    "version": 3
   },
   "file_extension": ".py",
   "mimetype": "text/x-python",
   "name": "python",
   "nbconvert_exporter": "python",
   "pygments_lexer": "ipython3",
   "version": "3.13.7"
  }
 },
 "nbformat": 4,
 "nbformat_minor": 5
}
