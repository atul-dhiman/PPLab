{
 "cells": [
  {
   "cell_type": "code",
   "execution_count": null,
   "id": "79a4b68d",
   "metadata": {},
   "outputs": [],
   "source": [
    "## wap to test whether the nos is +ive,-ive zero\n",
    "num=int(input(\"Enter the number: \"))\n",
    "if (num>0):\n",
    "    print(f\"{num} is positive\")\n",
    "elif(num<0):\n",
    "    print(f\"{num} is negative\")\n",
    "else:\n",
    "    print(\"The number is zero\")"
   ]
  },
  {
   "cell_type": "code",
   "execution_count": 2,
   "id": "e030ec5e",
   "metadata": {},
   "outputs": [
    {
     "name": "stdout",
     "output_type": "stream",
     "text": [
      "Entered character is consonant\n"
     ]
    }
   ],
   "source": [
    "## wap to determine whether character entered is vowels or not\n",
    "char=input(\"Enter the character\")\n",
    "if (char.lower==\"a\" or char.lower==\"e\"or char.lower==\"i\" or char.lower==\"o\" or char.lower==\"u\"):\n",
    "    print(\"Entered character is vowel\")\n",
    "else:\n",
    "    print(\"Entered character is consonant\")"
   ]
  },
  {
   "cell_type": "code",
   "execution_count": null,
   "id": "5ae29017",
   "metadata": {},
   "outputs": [
    {
     "name": "stdout",
     "output_type": "stream",
     "text": [
      "The user has entered a character\n",
      "Ais uppercase\n"
     ]
    }
   ],
   "source": [
    "## check whether it is number or a character,if it is character,check whether it is uppercase or lower case\n",
    "char=input(\"Press any key\")\n",
    "if (char.isalpha()):\n",
    "    print(\"The user has entered a character\")\n",
    "    # import pdb;pdb.set_trace()\n",
    "    if (char==char.upper()):\n",
    "        print(f\"{char} is uppercase\")\n",
    "    elif (char==char.lower()):\n",
    "        print(f\"{char} is lowercase\")\n",
    "elif (char.isdigit()):\n",
    "    print(\"The user has entered a digit\")\n",
    "else:\n",
    "    print(\"Invalid input\")"
   ]
  },
  {
   "cell_type": "code",
   "execution_count": null,
   "id": "915cf9f9",
   "metadata": {},
   "outputs": [],
   "source": [
    "## find the largest number out of 3 using nested if\n",
    "num1=int(input(\"Enter the first number: \"))\n",
    "num2=int(input(\"Enter the second number: \"))\n",
    "num3=int(input(\"Enter the third number: \"))\n",
    "if (num1>num2):\n",
    "    print(f\"{num1} is largest\")"
   ]
  },
  {
   "cell_type": "code",
   "execution_count": 9,
   "id": "e0c964d1",
   "metadata": {},
   "outputs": [
    {
     "name": "stdout",
     "output_type": "stream",
     "text": [
      "Ascending order:2,23,24\n",
      "Descending order:24,23,2\n"
     ]
    }
   ],
   "source": [
    "## sorting of three number in ascending and descending\n",
    "num1=int(input(\"Enter the first number: \"))\n",
    "num2=int(input(\"Enter the second number: \"))\n",
    "num3=int(input(\"Enter the third number: \"))\n",
    "min=max=mid=None\n",
    "if (num1> num2 and num1>num3):\n",
    "    if num2>=num3:\n",
    "        max,mid,min=num1,num2,num3\n",
    "    else:\n",
    "        max,mid,min=num1,num3,num2\n",
    "elif (num2> num1 and num2>num3):\n",
    "    if num1>=num3:\n",
    "        max,mid,min=num2,num1,num3\n",
    "    else:\n",
    "        max,mid,min=num2,num3,num1\n",
    "elif (num3> num1 and num3>num2):\n",
    "    if num1>=num2:\n",
    "        max,mid,min=num3,num1,num2\n",
    "    else:\n",
    "        max,mid,min=num3,num2,num1\n",
    "print(f\"Ascending order:{min},{mid},{max}\")\n",
    "print(f\"Descending order:{max},{mid},{min}\")"
   ]
  },
  {
   "cell_type": "code",
   "execution_count": null,
   "id": "1227ea10",
   "metadata": {},
   "outputs": [],
   "source": [
    "## absolute value"
   ]
  },
  {
   "cell_type": "code",
   "execution_count": 11,
   "id": "6c6efc60",
   "metadata": {},
   "outputs": [
    {
     "name": "stdout",
     "output_type": "stream",
     "text": [
      "55\n"
     ]
    }
   ],
   "source": [
    "# sum of 1 to n numbers\n",
    "num=1\n",
    "sum=0\n",
    "while(num<=10):\n",
    "    sum+=num\n",
    "    num+=1\n",
    "print(sum)\n"
   ]
  },
  {
   "cell_type": "code",
   "execution_count": null,
   "id": "7bfb3cc3",
   "metadata": {},
   "outputs": [],
   "source": [
    "## armstrong number\n"
   ]
  },
  {
   "cell_type": "code",
   "execution_count": null,
   "id": "be006c83",
   "metadata": {},
   "outputs": [
    {
     "ename": "KeyboardInterrupt",
     "evalue": "",
     "output_type": "error",
     "traceback": [
      "\u001b[1;31m---------------------------------------------------------------------------\u001b[0m",
      "\u001b[1;31mKeyboardInterrupt\u001b[0m                         Traceback (most recent call last)",
      "Cell \u001b[1;32mIn[2], line 8\u001b[0m\n\u001b[0;32m      3\u001b[0m \u001b[38;5;66;03m# if a.isdigit():\u001b[39;00m\n\u001b[0;32m      4\u001b[0m \u001b[38;5;66;03m#     print(\"The number is binary\")\u001b[39;00m\n\u001b[0;32m      5\u001b[0m \u001b[38;5;66;03m#     z=bin(int(a))\u001b[39;00m\n\u001b[0;32m      6\u001b[0m \u001b[38;5;66;03m#     print(z)\u001b[39;00m\n\u001b[0;32m      7\u001b[0m binary_converted_no\u001b[38;5;241m=\u001b[39m\u001b[38;5;28;01mNone\u001b[39;00m\n\u001b[1;32m----> 8\u001b[0m \u001b[38;5;28;01mwhile\u001b[39;00m(a\u001b[38;5;241m!=\u001b[39m\u001b[38;5;241m0\u001b[39m):\n\u001b[0;32m      9\u001b[0m     binary_converted_no\u001b[38;5;241m=\u001b[39ma\u001b[38;5;241m%\u001b[39m\u001b[38;5;241m2\u001b[39m\n",
      "\u001b[1;31mKeyboardInterrupt\u001b[0m: "
     ]
    }
   ],
   "source": [
    "## convert the number from decimal to binary using while loop\n",
    "a=int(input(\"Enter a number: \"))\n",
    "# if a.isdigit():\n",
    "#     print(\"The number is binary\")\n",
    "#     z=bin(int(a))\n",
    "#     print(z)\n",
    "binary_converted_no=None\n",
    "while(a!=0):\n",
    "    "
   ]
  },
  {
   "cell_type": "code",
   "execution_count": null,
   "id": "3471995d",
   "metadata": {},
   "outputs": [],
   "source": [
    "## write a program to reverse of a number\n",
    "a=int(input(\"Enter the number\"))\n"
   ]
  },
  {
   "cell_type": "code",
   "execution_count": 3,
   "id": "2e87afa8",
   "metadata": {},
   "outputs": [
    {
     "name": "stdout",
     "output_type": "stream",
     "text": [
      "The factorial of a number: 720\n"
     ]
    }
   ],
   "source": [
    "## wap to calculate factorial of number\n",
    "a=int(input(\"Enter the number\"))\n",
    "fact=1\n",
    "for i in range(1,a+1):\n",
    "    fact*=i\n",
    "print(f\"The factorial of a number: {fact}\")"
   ]
  },
  {
   "cell_type": "code",
   "execution_count": 5,
   "id": "c6c14750",
   "metadata": {},
   "outputs": [
    {
     "name": "stdout",
     "output_type": "stream",
     "text": [
      "12 * 1 = 12\n",
      "12 * 2 = 24\n",
      "12 * 3 = 36\n",
      "12 * 4 = 48\n",
      "12 * 5 = 60\n",
      "12 * 6 = 72\n",
      "12 * 7 = 84\n",
      "12 * 8 = 96\n",
      "12 * 9 = 108\n",
      "12 * 10 = 120\n"
     ]
    }
   ],
   "source": [
    "## multiplication table of n\n",
    "\n",
    "n=int(input(\"Enter the number whose table you want to print\"))\n",
    "for i in range(1,11):\n",
    "    print(f\"{n} * {i} = {n*i}\")\n"
   ]
  },
  {
   "cell_type": "code",
   "execution_count": null,
   "id": "f23cb63a",
   "metadata": {},
   "outputs": [],
   "source": [
    "## wap to save all leap years from 1900-2101\n",
    "a=int(input(\"Enter the first limit\"))\n",
    "b=int(input(\"Enter the last limit\"))\n",
    "for i in range(a,b+1):\n",
    "    if (i%4==0 and i !=100)  or (i%400==0):\n",
    "        print"
   ]
  },
  {
   "cell_type": "code",
   "execution_count": 8,
   "id": "0d23d258",
   "metadata": {},
   "outputs": [
    {
     "name": "stdout",
     "output_type": "stream",
     "text": [
      "2.083333333333333\n"
     ]
    }
   ],
   "source": [
    "## wap to sum the series using for loop\n",
    "n=4\n",
    "sum=0\n",
    "for i in range(1,n+1):\n",
    "    sum+=1/i\n",
    "print(sum)"
   ]
  },
  {
   "cell_type": "code",
   "execution_count": null,
   "id": "6248002c",
   "metadata": {},
   "outputs": [
    {
     "name": "stdout",
     "output_type": "stream",
     "text": [
      "1\n"
     ]
    }
   ],
   "source": [
    "### sum of cubes of numbers 1 to n\n",
    "n=int(input(\"Enter the value of n\"))\n",
    "sum=0\n",
    "for i in range(1,n+1):\n",
    "    sum+=i**3\n",
    "print(sum)"
   ]
  },
  {
   "cell_type": "code",
   "execution_count": null,
   "id": "cff07cca",
   "metadata": {},
   "outputs": [],
   "source": []
  }
 ],
 "metadata": {
  "kernelspec": {
   "display_name": "Python 3",
   "language": "python",
   "name": "python3"
  },
  "language_info": {
   "codemirror_mode": {
    "name": "ipython",
    "version": 3
   },
   "file_extension": ".py",
   "mimetype": "text/x-python",
   "name": "python",
   "nbconvert_exporter": "python",
   "pygments_lexer": "ipython3",
   "version": "3.12.8"
  }
 },
 "nbformat": 4,
 "nbformat_minor": 5
}
