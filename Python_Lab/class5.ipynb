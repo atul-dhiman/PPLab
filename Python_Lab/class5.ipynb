{
 "cells": [
  {
   "cell_type": "markdown",
   "id": "9967f75b",
   "metadata": {},
   "source": [
    "- pre-test loops\n",
    "- post-test loops\n",
    "- counter controlled loops\n",
    "- condition controlled loops"
   ]
  },
  {
   "cell_type": "markdown",
   "id": "fba5ea21",
   "metadata": {},
   "source": []
  },
  {
   "cell_type": "code",
   "execution_count": null,
   "id": "de40c110",
   "metadata": {},
   "outputs": [],
   "source": [
    "i=0\n",
    "while(i>10):\n",
    "    print(i,end=\"\")\n",
    "    i-=1"
   ]
  },
  {
   "cell_type": "markdown",
   "id": "7a38d92d",
   "metadata": {},
   "source": [
    "in case of post test,body of loop is test first  \n",
    "counter controlled: No of times the loop will execute is known in advance while in condition controlled,no of times the  \n",
    "loop is executed is not known in advance,so it is a type of indefinate loop"
   ]
  },
  {
   "cell_type": "code",
   "execution_count": null,
   "id": "8b96cbce",
   "metadata": {},
   "outputs": [],
   "source": [
    "# wap a program to generate calender of a month \n",
    "start_day=input(\"Enter the start day\")\n",
    "number_of_days=input(\"Enter the number of days\")\n",
    "days=[\"Sunday\",\"Monday\",\"Tuesday\",\"Wednesday\",\"Thursday\",\"Friday\",\"Saturday\"]\n",
    "for i in range(1,number_of_days+1):\n",
    "    for j in days:\n",
    "        print()"
   ]
  },
  {
   "cell_type": "code",
   "execution_count": 12,
   "id": "02739860",
   "metadata": {},
   "outputs": [
    {
     "name": "stdout",
     "output_type": "stream",
     "text": [
      "* * * * * * \n",
      "* * * * * * \n",
      "* * * * * * \n",
      "* * * * * * \n"
     ]
    }
   ],
   "source": [
    "for i in range(4):\n",
    "    for j in range(0,6):\n",
    "        print(\"*\",end=\" \")\n",
    "    print()"
   ]
  },
  {
   "cell_type": "code",
   "execution_count": 15,
   "id": "5329eb79",
   "metadata": {},
   "outputs": [
    {
     "name": "stdout",
     "output_type": "stream",
     "text": [
      "* \n",
      "* * \n",
      "* * * \n",
      "* * * * \n",
      "* * * * * \n"
     ]
    }
   ],
   "source": [
    "for i in range(1,6):\n",
    "    for j in range(i):\n",
    "        print(\"*\",end=\" \")\n",
    "    print()"
   ]
  },
  {
   "cell_type": "code",
   "execution_count": 16,
   "id": "d5455d1f",
   "metadata": {},
   "outputs": [
    {
     "name": "stdout",
     "output_type": "stream",
     "text": [
      "* * * * * \n",
      "* * * * \n",
      "* * * \n",
      "* * \n",
      "* \n"
     ]
    }
   ],
   "source": [
    "for i in range(5,0,-1):\n",
    "    for j in range(i):\n",
    "        print(\"*\",end=\" \")\n",
    "    print()"
   ]
  },
  {
   "cell_type": "code",
   "execution_count": null,
   "id": "b500eae7",
   "metadata": {},
   "outputs": [],
   "source": [
    "for i in range(0,6):\n",
    "    \n"
   ]
  }
 ],
 "metadata": {
  "kernelspec": {
   "display_name": "Python 3",
   "language": "python",
   "name": "python3"
  },
  "language_info": {
   "codemirror_mode": {
    "name": "ipython",
    "version": 3
   },
   "file_extension": ".py",
   "mimetype": "text/x-python",
   "name": "python",
   "nbconvert_exporter": "python",
   "pygments_lexer": "ipython3",
   "version": "3.12.8"
  }
 },
 "nbformat": 4,
 "nbformat_minor": 5
}
