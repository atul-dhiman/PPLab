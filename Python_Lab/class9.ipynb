{
 "cells": [
  {
   "cell_type": "code",
   "execution_count": 41,
   "id": "b34aabd3",
   "metadata": {},
   "outputs": [],
   "source": [
    "with open(\"file\",'w') as f:\n",
    "    data=input(\"Enter the data\")\n",
    "    f.write(data)\n"
   ]
  },
  {
   "cell_type": "markdown",
   "id": "d4c39e95",
   "metadata": {},
   "source": [
    "WAP that accepts file name as input from the user  \n",
    "ope the file & cout the no. of times the char appears in the file"
   ]
  },
  {
   "cell_type": "code",
   "execution_count": 5,
   "id": "05c333d8",
   "metadata": {},
   "outputs": [
    {
     "data": {
      "text/plain": [
       "<_io.TextIOWrapper name='file' mode='w' encoding='cp1252'>"
      ]
     },
     "execution_count": 5,
     "metadata": {},
     "output_type": "execute_result"
    }
   ],
   "source": [
    "f"
   ]
  },
  {
   "cell_type": "code",
   "execution_count": 35,
   "id": "5d05fa5e",
   "metadata": {},
   "outputs": [
    {
     "name": "stdout",
     "output_type": "stream",
     "text": [
      "1\n"
     ]
    }
   ],
   "source": [
    "file=open(\"file\",\"r\")\n",
    "count =0\n",
    "ch=input(\"Enter the data\")\n",
    "for i in file:\n",
    "    for j in i:\n",
    "        if j==ch:\n",
    "            count+=1\n",
    "# file.close()\n",
    "print(count)"
   ]
  },
  {
   "cell_type": "code",
   "execution_count": null,
   "id": "a687af9b",
   "metadata": {},
   "outputs": [
    {
     "name": "stdout",
     "output_type": "stream",
     "text": [
      "e:\\College\\Python Lab\\Python_Lab\n",
      "['1.py', '2.py', 'class3.ipynb', 'class4.ipynb', 'class5.ipynb', 'class6.ipynb', 'class8.ipynb', 'class9.ipynb', 'file', 'lab1_&_lab3.ipynb', 'lab2.ipynb', 'lab4.ipynb', 'lab5.ipynb', 'lab6.ipynb', 'lab7.ipynb', 'lab8.ipynb', 'main.py', 'mid_sem_practise.ipynb', 'Module', 'MyModule.py', '__pycache__']\n",
      "['$RECYCLE.BIN', 'backtesting', 'College', 'DSA', 'Mlops', 'Motivation', 'New folder', 'Office Work', 'Placement prep', 'Practise', 'Projects', 'Results of strategies', 'Study', 'System Volume Information', 'Ubuntu VM']\n"
     ]
    }
   ],
   "source": [
    "import os\n",
    "print(os.getcwd())\n",
    "print(os.listdir())\n",
    "print(os.listdir(\"e:\\\\\"))\n",
    "os.mkdir(\"test_directory\")"
   ]
  },
  {
   "cell_type": "markdown",
   "id": "8e53c27b",
   "metadata": {},
   "source": [
    "os.chdir(\"C://Python\")  \n",
    "os.listdir()"
   ]
  },
  {
   "cell_type": "code",
   "execution_count": 27,
   "id": "cc497f8b",
   "metadata": {},
   "outputs": [],
   "source": [
    "os.rename('test_directory','new_test_directory')"
   ]
  },
  {
   "cell_type": "code",
   "execution_count": 29,
   "id": "7f0be824",
   "metadata": {},
   "outputs": [],
   "source": [
    "os.rmdir(\"new_test_directory\")"
   ]
  },
  {
   "cell_type": "code",
   "execution_count": null,
   "id": "ac3ad97b",
   "metadata": {},
   "outputs": [],
   "source": [
    "import shutil\n",
    "shutil.rmtree('mydir')"
   ]
  },
  {
   "cell_type": "code",
   "execution_count": 48,
   "id": "6d15ab9d",
   "metadata": {},
   "outputs": [
    {
     "name": "stdout",
     "output_type": "stream",
     "text": [
      "The number of time spaces has come : 3\n",
      "The number of time spaces has come : 0\n",
      "The number of time spaces has come : 0\n"
     ]
    }
   ],
   "source": [
    "file=open(\"file\",\"r\")\n",
    "count1=0\n",
    "count2=0\n",
    "count3=0\n",
    "#wap to count no of tabs,spaces and new line character in a file\n",
    "for i in file:\n",
    "    for j in i:\n",
    "        if j==\" \":\n",
    "            count1+=1\n",
    "        if j==\"\\t\":\n",
    "            coun2+=1\n",
    "        if j==\"\\n\":\n",
    "            count3+=1\n",
    "print(f\"The number of time spaces has come : {count1}\")\n",
    "print(f\"The number of time spaces has come : {count2}\")\n",
    "print(f\"The number of time spaces has come : {count3}\")"
   ]
  },
  {
   "cell_type": "code",
   "execution_count": null,
   "id": "69bdcc84",
   "metadata": {},
   "outputs": [],
   "source": []
  }
 ],
 "metadata": {
  "kernelspec": {
   "display_name": "Python 3",
   "language": "python",
   "name": "python3"
  },
  "language_info": {
   "codemirror_mode": {
    "name": "ipython",
    "version": 3
   },
   "file_extension": ".py",
   "mimetype": "text/x-python",
   "name": "python",
   "nbconvert_exporter": "python",
   "pygments_lexer": "ipython3",
   "version": "3.13.7"
  }
 },
 "nbformat": 4,
 "nbformat_minor": 5
}
