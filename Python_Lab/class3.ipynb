{
 "cells": [
  {
   "cell_type": "markdown",
   "id": "610f5fb1",
   "metadata": {},
   "source": [
    "## Raw String\n",
    "removes escape sequence.A strig that should not handle any esccape sequence and want to display exactly,so\n",
    "string is specified using raw string with \"R\" or \"r\""
   ]
  },
  {
   "cell_type": "code",
   "execution_count": 1,
   "id": "50e61863",
   "metadata": {},
   "outputs": [
    {
     "name": "stdout",
     "output_type": "stream",
     "text": [
      "What\\'s Your name?\n"
     ]
    }
   ],
   "source": [
    "print(R\"What\\'s Your name?\")"
   ]
  },
  {
   "cell_type": "code",
   "execution_count": null,
   "id": "b203503a",
   "metadata": {},
   "outputs": [
    {
     "data": {
      "text/plain": [
       "'            Hello             '"
      ]
     },
     "execution_count": 12,
     "metadata": {},
     "output_type": "execute_result"
    }
   ],
   "source": [
    "# format(value,format specifier)\n",
    "format(\"Hello\",'>30') #right justify\n",
    "format(\"Hello\",'<30') #left justify\n",
    "format(\"Hello\",'^30') #center justify"
   ]
  },
  {
   "cell_type": "code",
   "execution_count": 24,
   "id": "168f09b8",
   "metadata": {},
   "outputs": [
    {
     "name": "stdout",
     "output_type": "stream",
     "text": [
      "Hello----------World\n"
     ]
    }
   ],
   "source": [
    "# format(\"Hello\",'>30',)\n",
    "print(\"Hello\"+format(10*'-','>10')+'World')"
   ]
  },
  {
   "cell_type": "markdown",
   "id": "e3f02558",
   "metadata": {},
   "source": [
    "## Datatypes"
   ]
  },
  {
   "cell_type": "markdown",
   "id": "ae82f7c7",
   "metadata": {},
   "source": [
    "1) numeric(Integer,Float,complex_number)\n",
    "2) Dictionary\n",
    "3) Boolean\n",
    "4) Set(Set,frozen_Set)\n",
    "5) Binary(Bytes,Bytes_array)\n",
    "6) None type\n",
    "7) Sequence type(String,tuple,list,range)"
   ]
  },
  {
   "cell_type": "code",
   "execution_count": 26,
   "id": "fdfa0d61",
   "metadata": {},
   "outputs": [
    {
     "name": "stdout",
     "output_type": "stream",
     "text": [
      "1\n"
     ]
    }
   ],
   "source": [
    "## dictionary\n",
    "# it is a collection of data values used to store data values like a map that is key value pair,which may be more optimized, DIct is separated by column while key\n",
    "a={'a':1,\"b\":2}\n",
    "print(a['a'])"
   ]
  },
  {
   "cell_type": "code",
   "execution_count": 33,
   "id": "a677765e",
   "metadata": {},
   "outputs": [
    {
     "name": "stdout",
     "output_type": "stream",
     "text": [
      "{'_', 'l', 'r', 'H', 'd', 'e', 'o', 'w'}\n",
      "{'World', 'Hello'}\n"
     ]
    }
   ],
   "source": [
    "s1=set(\"Hello_world\")\n",
    "print(s1)\n",
    "s2=set([\"Hello\",\"World\"])\n",
    "print(s2)"
   ]
  },
  {
   "cell_type": "code",
   "execution_count": 35,
   "id": "2b23d250",
   "metadata": {},
   "outputs": [
    {
     "name": "stdout",
     "output_type": "stream",
     "text": [
      "True\n"
     ]
    }
   ],
   "source": [
    "print(\"Hello\" in s2)"
   ]
  },
  {
   "cell_type": "code",
   "execution_count": null,
   "id": "39d4ad05",
   "metadata": {},
   "outputs": [],
   "source": [
    "#set: Set can be created by using built in set function with itertable objects or sequence by placing sequence inside {} separated by comma\n",
    "#frozen_set: immutable form of set "
   ]
  },
  {
   "cell_type": "code",
   "execution_count": null,
   "id": "96b73e0b",
   "metadata": {},
   "outputs": [],
   "source": [
    "##tuple: \n",
    "tup=('a',2,4.5)\n",
    "#tuple is readonly datatypewith values separted by commas,and enclosed in ()"
   ]
  },
  {
   "cell_type": "code",
   "execution_count": null,
   "id": "42b6f568",
   "metadata": {},
   "outputs": [],
   "source": [
    "##list consists of items separated by commas, and enclosed in []\n",
    "## range"
   ]
  },
  {
   "cell_type": "code",
   "execution_count": null,
   "id": "2babaf03",
   "metadata": {},
   "outputs": [
    {
     "name": "stdout",
     "output_type": "stream",
     "text": [
      "b'Hello'\n"
     ]
    }
   ],
   "source": [
    "#binary\n",
    "#print(b\"Hello\")\n",
    "# print(bytearray(\"Hello\"))\n",
    "# print(byte(\"Hello\"))\n",
    "#getting errors in this\n"
   ]
  },
  {
   "cell_type": "code",
   "execution_count": null,
   "id": "c5b533fa",
   "metadata": {},
   "outputs": [],
   "source": []
  }
 ],
 "metadata": {
  "kernelspec": {
   "display_name": "Python 3",
   "language": "python",
   "name": "python3"
  },
  "language_info": {
   "codemirror_mode": {
    "name": "ipython",
    "version": 3
   },
   "file_extension": ".py",
   "mimetype": "text/x-python",
   "name": "python",
   "nbconvert_exporter": "python",
   "pygments_lexer": "ipython3",
   "version": "3.12.8"
  }
 },
 "nbformat": 4,
 "nbformat_minor": 5
}
