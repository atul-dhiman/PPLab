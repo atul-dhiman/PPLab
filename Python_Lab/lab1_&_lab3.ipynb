{
 "cells": [
  {
   "cell_type": "markdown",
   "id": "735c8f3e",
   "metadata": {},
   "source": [
    "## Arithematic Operators\n"
   ]
  },
  {
   "cell_type": "code",
   "execution_count": null,
   "id": "99270dc0",
   "metadata": {},
   "outputs": [
    {
     "name": "stdout",
     "output_type": "stream",
     "text": [
      "The two nos. are 10 & 3\n",
      "The sum is 13,\n",
      " The subraction is 7,\n",
      " The muliplication nos. is 30\n",
      "The divison is 3.3333333333333335,\n",
      " The floor value is 3,\n",
      " The exponential value is 1000\n"
     ]
    }
   ],
   "source": [
    "a=10\n",
    "b=3\n",
    "c=a+b\n",
    "d=a-b\n",
    "e=a*b\n",
    "f=a/b\n",
    "g=a//b\n",
    "h=a**b\n",
    "i=a%b\n",
    "print(f\"The two nos. are {a} & {b}\")\n",
    "print(f\"The sum is {c},\\n The subraction is {d},\\n The muliplication nos. is {e}\")\n",
    "print(f\"The divison is {f},\\n The floor value is {g},\\n The exponential value is {h}\")\n",
    "print(f\"The remainder is {i}\")"
   ]
  },
  {
   "cell_type": "markdown",
   "id": "29843b49",
   "metadata": {},
   "source": [
    "## Comparison operators"
   ]
  },
  {
   "cell_type": "code",
   "execution_count": 12,
   "id": "180a77ed",
   "metadata": {},
   "outputs": [
    {
     "name": "stdout",
     "output_type": "stream",
     "text": [
      "False\n",
      "True\n",
      "False\n",
      "True\n",
      "False\n",
      "True\n"
     ]
    }
   ],
   "source": [
    "a=5\n",
    "b=6\n",
    "print(a==b)\n",
    "print(a!=b)\n",
    "print(a>b)\n",
    "print(a<b)\n",
    "print(a>=b)\n",
    "print(a<=b)\n"
   ]
  },
  {
   "cell_type": "markdown",
   "id": "5c61a1f4",
   "metadata": {},
   "source": [
    "## Assignment operators"
   ]
  },
  {
   "cell_type": "code",
   "execution_count": 5,
   "id": "c5bdf003",
   "metadata": {},
   "outputs": [
    {
     "name": "stdout",
     "output_type": "stream",
     "text": [
      "61\n",
      "62\n",
      "60\n",
      "120\n",
      "40.0\n",
      "20.0\n",
      "6.0\n",
      "36.0\n"
     ]
    }
   ],
   "source": [
    "a=61\n",
    "print(a)\n",
    "a+=1\n",
    "print(a)\n",
    "a-=2\n",
    "print(a)\n",
    "a*=2\n",
    "print(a)\n",
    "a/=3\n",
    "print(a)\n",
    "a//=2\n",
    "print(a)\n",
    "a%=7\n",
    "print(a)\n",
    "a**=2\n",
    "print(a)"
   ]
  },
  {
   "cell_type": "markdown",
   "id": "c7d3977f",
   "metadata": {},
   "source": [
    "## Logical Operators"
   ]
  },
  {
   "cell_type": "code",
   "execution_count": 7,
   "id": "f92ebe57",
   "metadata": {},
   "outputs": [
    {
     "name": "stdout",
     "output_type": "stream",
     "text": [
      "True\n",
      "True\n",
      "False\n",
      "False\n"
     ]
    }
   ],
   "source": [
    "x = 5\n",
    "print(x > 3 and x < 10)\n",
    "print(x > 3 or x < 4)\n",
    "is_allowance=True\n",
    "print(not is_allowance)\n",
    "x = 5\n",
    "print(not(x > 3 and x < 10))"
   ]
  },
  {
   "cell_type": "markdown",
   "id": "7bf62190",
   "metadata": {},
   "source": [
    "## Bitwise Operators\n",
    "Bitwise"
   ]
  },
  {
   "cell_type": "code",
   "execution_count": 14,
   "id": "d5130eec",
   "metadata": {},
   "outputs": [
    {
     "name": "stdout",
     "output_type": "stream",
     "text": [
      "4\n",
      "10\n",
      "False\n",
      "\n",
      "160\n",
      "2\n"
     ]
    }
   ],
   "source": [
    "x=10\n",
    "y=4\n",
    "print(x and y) # --- print(x&y) --ANd\n",
    "print(x or y) # ---print(|) ----or\n",
    "print(not x)  #--- print(~)   ---not\n",
    "print()\n",
    "#--- print(^) ---XOR\n",
    "# Bitwise rightshift x>>2\n",
    "# Bitwise leftshift x<<3\n",
    "print(x<<4)\n",
    "print(x>>2)"
   ]
  },
  {
   "cell_type": "markdown",
   "id": "626b4ffc",
   "metadata": {},
   "source": [
    "## Identity and Membership Operator"
   ]
  },
  {
   "cell_type": "code",
   "execution_count": 20,
   "id": "4f6159bf",
   "metadata": {},
   "outputs": [
    {
     "name": "stdout",
     "output_type": "stream",
     "text": [
      "True\n",
      "False\n",
      "True\n"
     ]
    }
   ],
   "source": [
    "a=10\n",
    "b=10\n",
    "print(a is b)\n",
    "x=[1,2]\n",
    "y=[1.2]\n",
    "print(x is y)\n",
    "z=x\n",
    "print(x is z)"
   ]
  },
  {
   "cell_type": "code",
   "execution_count": 22,
   "id": "9eab989d",
   "metadata": {},
   "outputs": [
    {
     "name": "stdout",
     "output_type": "stream",
     "text": [
      "False True False\n"
     ]
    }
   ],
   "source": [
    "x1=5\n",
    "y1=5\n",
    "x2=\"Hello\"\n",
    "y2=\"Hello\"\n",
    "x3=[1,2,3]\n",
    "y3=[1,2,3]\n",
    "print(x1 is not y1,x2 is y2,x3 is y3 )"
   ]
  },
  {
   "cell_type": "code",
   "execution_count": 31,
   "id": "4b1d0232",
   "metadata": {},
   "outputs": [
    {
     "name": "stdout",
     "output_type": "stream",
     "text": [
      "True\n",
      "True\n",
      "True\n",
      "True\n",
      "False\n",
      "True\n"
     ]
    }
   ],
   "source": [
    "## in , not in\n",
    "## eg-- 5 in x\n",
    "## eg-- 5 not in x\n",
    "message=\"HELLO WORLD\"\n",
    "dict={1:'a',2:'b','c':10}\n",
    "## check if H is present in message\n",
    "print('H' in message)\n",
    "## check is HELLO is present in message\n",
    "print('HELLO' in message)\n",
    "# check if 1 is present in dict\n",
    "print(1 in dict)\n",
    "print('c' in dict)\n",
    "print('a' in dict)\n",
    "print('a' in dict.values())"
   ]
  },
  {
   "cell_type": "markdown",
   "id": "50a1006f",
   "metadata": {},
   "source": [
    "## Ternary operator\n",
    "syntax= [on true] if expression else [on false]"
   ]
  },
  {
   "cell_type": "code",
   "execution_count": 33,
   "id": "e2220cea",
   "metadata": {},
   "outputs": [
    {
     "name": "stdout",
     "output_type": "stream",
     "text": [
      "10\n"
     ]
    }
   ],
   "source": [
    "a,b=10,20\n",
    "min=a if a <b else b\n",
    "print(min)"
   ]
  },
  {
   "cell_type": "code",
   "execution_count": 35,
   "id": "35175833",
   "metadata": {},
   "outputs": [
    {
     "name": "stdout",
     "output_type": "stream",
     "text": [
      "Positive\n"
     ]
    }
   ],
   "source": [
    "x=5\n",
    "result=\"Positive\" if x>0 else \"Negative\"\n",
    "print(result)"
   ]
  },
  {
   "cell_type": "markdown",
   "id": "a29b46c6",
   "metadata": {},
   "source": [
    "## Operator Precedence and associativity"
   ]
  },
  {
   "cell_type": "code",
   "execution_count": null,
   "id": "a32466f8",
   "metadata": {},
   "outputs": [
    {
     "name": "stdout",
     "output_type": "stream",
     "text": [
      "610\n",
      "180.0\n",
      "100.0\n",
      "True\n",
      "False\n",
      "100.0\n"
     ]
    }
   ],
   "source": [
    "expr=10+20*30\n",
    "print(expr)\n",
    "print((40+20)*30/10)\n",
    "print(40+(20*30)/10)\n",
    "print(False==False or True)\n",
    "print(False==(False or True))\n",
    "print(100/10*10) # * / % // has same precedence , with left to right associativity"
   ]
  },
  {
   "cell_type": "code",
   "execution_count": 45,
   "id": "0f989155",
   "metadata": {},
   "outputs": [
    {
     "name": "stdout",
     "output_type": "stream",
     "text": [
      "Lunch is fruit and money is 10\n"
     ]
    }
   ],
   "source": [
    "## construct  a if else block which runs if when lunch is either fruit or sandhich and only if money is more than or equal to 2\n",
    "i=input(\"What is the lunch?\")\n",
    "money=int(input(\"Enter the amount of money\"))\n",
    "lunch=['fruit','sandwitch']\n",
    "if i.lower() in lunch and money>=2:\n",
    "    print(f\"Lunch is {i} and money is {money}\")\n",
    "else:\n",
    "    print(\"Lunch is neither fruit nor lunch and money is not greater than equal to 2\")\n",
    "\n"
   ]
  },
  {
   "cell_type": "code",
   "execution_count": null,
   "id": "56ce7761",
   "metadata": {},
   "outputs": [],
   "source": []
  }
 ],
 "metadata": {
  "kernelspec": {
   "display_name": "Python 3",
   "language": "python",
   "name": "python3"
  },
  "language_info": {
   "codemirror_mode": {
    "name": "ipython",
    "version": 3
   },
   "file_extension": ".py",
   "mimetype": "text/x-python",
   "name": "python",
   "nbconvert_exporter": "python",
   "pygments_lexer": "ipython3",
   "version": "3.12.8"
  }
 },
 "nbformat": 4,
 "nbformat_minor": 5
}
