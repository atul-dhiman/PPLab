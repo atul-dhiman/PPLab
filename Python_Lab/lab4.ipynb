{
 "cells": [
  {
   "cell_type": "markdown",
   "id": "3c9c6666",
   "metadata": {},
   "source": [
    "## input"
   ]
  },
  {
   "cell_type": "code",
   "execution_count": 3,
   "id": "a805e00b",
   "metadata": {},
   "outputs": [
    {
     "name": "stdout",
     "output_type": "stream",
     "text": [
      "The entered name is Atul and age is 24\n"
     ]
    }
   ],
   "source": [
    "name=input(\"Enter your name \")\n",
    "age=int(input(\"Enter your age\"))\n",
    "print(f\"The entered name is {name} and age is {age}\")"
   ]
  },
  {
   "cell_type": "markdown",
   "id": "a9fba490",
   "metadata": {},
   "source": [
    "#### Question 1 : WAP to enter a number and display its hex,octal and square root"
   ]
  },
  {
   "cell_type": "code",
   "execution_count": null,
   "id": "be224172",
   "metadata": {},
   "outputs": [
    {
     "name": "stdout",
     "output_type": "stream",
     "text": [
      "The entered number is 24\n",
      "The hex of the number is 0x18\n",
      "The oct of the number is 0o30\n",
      "The square root the numebr is 4.898979485566356\n"
     ]
    }
   ],
   "source": [
    "\n",
    "num=int(input(\"Enter the number \"))\n",
    "print(f\"The entered number is {num}\")\n",
    "hex_num=hex(num)\n",
    "oct_num=oct(num)\n",
    "print(f\"The hex of the number is {hex_num}\")\n",
    "print(f\"The oct of the number is {oct_num}\")\n",
    "print(f\"The square root the numebr is {num**(1/2)}\")\n"
   ]
  },
  {
   "cell_type": "markdown",
   "id": "125cf123",
   "metadata": {},
   "source": [
    "#### Question 2: WAP to calculate the area of a triangle using heron's formula"
   ]
  },
  {
   "cell_type": "code",
   "execution_count": 12,
   "id": "7699dcc8",
   "metadata": {},
   "outputs": [
    {
     "name": "stdout",
     "output_type": "stream",
     "text": [
      "The entered numbers are (5.0, 6.0, 7.0)\n",
      "The area of the triangle is :14.696938456699069\n"
     ]
    }
   ],
   "source": [
    "import math\n",
    "a=float(input(\"Enter first side\"))\n",
    "b=float(input(\"Enter second side\"))\n",
    "c=float(input(\"Enter third side\"))\n",
    "s=(a+b+c)/2\n",
    "area=math.sqrt(s*(s-a)*(s-b)*(s-c))\n",
    "print(f\"The entered numbers are {a,b,c}\")\n",
    "print(f\"The area of the triangle is :{area}\")"
   ]
  },
  {
   "cell_type": "markdown",
   "id": "4096f2ea",
   "metadata": {},
   "source": [
    "#### Question 3: Calculate distance between two points"
   ]
  },
  {
   "cell_type": "code",
   "execution_count": 16,
   "id": "371ea73e",
   "metadata": {},
   "outputs": [
    {
     "name": "stdout",
     "output_type": "stream",
     "text": [
      "The entered x1,x2,y1,y2 coordinates are respectively : (2.0, 3.0, 4.0, 5.0)\n",
      "The distance between these points is 1.4142135623730951\n"
     ]
    }
   ],
   "source": [
    "x1=float(input(\"Enter x1 coordinate: \"))\n",
    "x2=float(input(\"Enter x2 coordinate: \"))\n",
    "y1=float(input(\"Enter y1 coordinate: \"))\n",
    "y2=float(input(\"Enter y2 coordinate: \"))\n",
    "d=math.sqrt((x2-x1)**2+(y2-y1)**2)\n",
    "print(f\"The entered x1,x2,y1,y2 coordinates are respectively : {x1,x2,y1,y2}\")\n",
    "print(f\"The distance between these points is {d}\")"
   ]
  },
  {
   "cell_type": "markdown",
   "id": "5149c084",
   "metadata": {},
   "source": [
    "#### Question 4: WAP to perform addition,subtraction,division,multiplication of two floating point numbers"
   ]
  },
  {
   "cell_type": "code",
   "execution_count": 20,
   "id": "3c592c89",
   "metadata": {},
   "outputs": [
    {
     "name": "stdout",
     "output_type": "stream",
     "text": [
      "The entered nos are:(15.0, 4.0)\n",
      "The sum of two nos is:19.0\n",
      "The substraction of two nos is:11.0\n",
      "The multiplication of two nos is:60.0\n",
      "The division of two nos is:3.75\n",
      "The floor division of two nos is3.0\n"
     ]
    }
   ],
   "source": [
    "a=float(input(\"Enter first number \"))\n",
    "b=float(input(\"Enter second number \"))\n",
    "print(f\"The entered nos are:{a,b}\")\n",
    "print(f\"The sum of two nos is:{a+b}\")\n",
    "print(f\"The substraction of two nos is:{a-b}\")\n",
    "print(f\"The multiplication of two nos is:{a*b}\")\n",
    "print(f\"The division of two nos is:{a/b}\")\n",
    "print(f\"The floor division of two nos is{a//b}\")\n",
    "\n"
   ]
  },
  {
   "cell_type": "markdown",
   "id": "08999728",
   "metadata": {},
   "source": [
    "##### Question 5:WAP to calculate the bill for item, given its value ,quantity sold,value,discount,tax"
   ]
  },
  {
   "cell_type": "code",
   "execution_count": 7,
   "id": "4daeee0f",
   "metadata": {},
   "outputs": [
    {
     "name": "stdout",
     "output_type": "stream",
     "text": [
      "************ Bill ************\n",
      "************ Bill ************\n",
      "************ Bill ************\n",
      "Quantity Sold:             23.00\n",
      "Price per item:            10.00\n",
      "                --------------\n",
      "Amount                    230.00\n",
      "Discount:\t\t 27.60\n",
      "                --------------\n",
      "Discount total          202.40\n",
      "Tax                    36.43\n",
      "                --------------\n",
      "Total amount to be paid: 238.83\n"
     ]
    }
   ],
   "source": [
    "qty = int(input(\"Enter the quantity sold: \"))\n",
    "ppi = int(input(\"Enter the price per item: \"))\n",
    "\n",
    "amount = qty * ppi\n",
    "\n",
    "discount_percentage = float(input(\"Enter the discount percentage: \"))\n",
    "tax_percentage = float(input(\"Enter tax percentage: \"))\n",
    "\n",
    "discount = amount * (discount_percentage / 100)\n",
    "total_discount = amount - discount\n",
    "\n",
    "tax = total_discount * (tax_percentage / 100)\n",
    "\n",
    "final_amount = total_discount + tax\n",
    "\n",
    "print(\"************ Bill ************\")\n",
    "print(12*\"*\", \"Bill\", 12*\"*\")\n",
    "print(format(\" Bill \",\"*^30\"))\n",
    "print(\"Quantity Sold:\", format(\" \", \">11\"), f\"{qty:.2f}\")\n",
    "print(\"Price per item:\", format(\" \", \">10\"), f\"{ppi:.2f}\")\n",
    "print(format(\"--------------\", \">30\"))\n",
    "print(\"Amount\", format(\" \", \">18\"), f\"{amount:.2f}\")\n",
    "print(f\"Discount:\\t\\t {discount:.2f}\")\n",
    "print(format(\"--------------\", \">30\"))\n",
    "print(\"Discount total\", format(\" \", \">8\"), f\"{total_discount:.2f}\")\n",
    "print(\"Tax\", format(\" \", \">18\"), f\"{tax:.2f}\")\n",
    "print(format(\"--------------\", \">30\"))\n",
    "print(f\"Total amount to be paid: {final_amount:.2f}\")\n",
    "\n"
   ]
  },
  {
   "cell_type": "markdown",
   "id": "9fcbb1f5",
   "metadata": {},
   "source": [
    "#### Question 6: WAP to calculate student's result based on two examinations, 1 sport event and 3 activities conducted\n",
    "####        weightage of activities 30% ,sports 20% and examination=50%"
   ]
  },
  {
   "cell_type": "code",
   "execution_count": 4,
   "id": "98bdb013",
   "metadata": {},
   "outputs": [
    {
     "name": "stdout",
     "output_type": "stream",
     "text": [
      "\n",
      "************ Student Result ************\n",
      "Examination Average: 79.00 --> Weighted: 39.50\n",
      "Sports Marks:        80.00 --> Weighted: 16.00\n",
      "Activity Average:    78.67 --> Weighted: 23.60\n",
      "-----------------------------------------\n",
      "Final Result:        79.10\n"
     ]
    }
   ],
   "source": [
    "exam1 = float(input(\"Enter marks of Examination 1 (out of 100): \"))\n",
    "exam2 = float(input(\"Enter marks of Examination 2 (out of 100): \"))\n",
    "sports = float(input(\"Enter marks of Sports Event (out of 100): \"))\n",
    "\n",
    "activity1 = float(input(\"Enter marks of Activity 1 (out of 100): \"))\n",
    "activity2 = float(input(\"Enter marks of Activity 2 (out of 100): \"))\n",
    "activity3 = float(input(\"Enter marks of Activity 3 (out of 100): \"))\n",
    "\n",
    "exam_avg = (exam1 + exam2) / 2\n",
    "activity_avg = (activity1 + activity2 + activity3) / 3\n",
    "\n",
    "exam_weighted = exam_avg * 0.50\n",
    "sports_weighted = sports * 0.20\n",
    "activity_weighted = activity_avg * 0.30\n",
    "\n",
    "final_score = exam_weighted + sports_weighted + activity_weighted\n",
    "\n",
    "print(\"\\n************ Student Result ************\")\n",
    "print(f\"Examination Average: {exam_avg:.2f} --> Weighted: {exam_weighted:.2f}\")\n",
    "print(f\"Sports Marks:        {sports:.2f} --> Weighted: {sports_weighted:.2f}\")\n",
    "print(f\"Activity Average:    {activity_avg:.2f} --> Weighted: {activity_weighted:.2f}\")\n",
    "print(\"-----------------------------------------\")\n",
    "print(f\"Final Result:        {final_score:.2f}\")\n",
    "\n"
   ]
  },
  {
   "cell_type": "markdown",
   "id": "13804f4a",
   "metadata": {},
   "source": [
    "#### Question 7:WAP to convert Fahrenheit into degree celcius"
   ]
  },
  {
   "cell_type": "code",
   "execution_count": 5,
   "id": "814a3e53",
   "metadata": {},
   "outputs": [
    {
     "name": "stdout",
     "output_type": "stream",
     "text": [
      "310.00°F = 154.44°C\n"
     ]
    }
   ],
   "source": [
    "fahrenheit = float(input(\"Enter temperature in Fahrenheit: \"))\n",
    "celsius = (fahrenheit - 32) * 5 / 9\n",
    "print(f\"{fahrenheit:.2f}°F = {celsius:.2f}°C\")\n"
   ]
  },
  {
   "cell_type": "markdown",
   "id": "3c9a3a1a",
   "metadata": {},
   "source": [
    "#### Question 8: WAP to calculate total amount of money in piggybank,given coins of Rs 10,5,2,1"
   ]
  },
  {
   "cell_type": "code",
   "execution_count": 2,
   "id": "bdb52ff9",
   "metadata": {},
   "outputs": [
    {
     "name": "stdout",
     "output_type": "stream",
     "text": [
      "The quantity of Rs10 coins is: 10\n",
      "The quantity of Rs5 coins is: 10\n",
      "The quantity of Rs2 coins is: 10\n",
      "The quantity of Rs1 coins is: 10\n",
      "The total amount in the piggy_bank is: 180\n"
     ]
    }
   ],
   "source": [
    "qty_ten=int(input(\"Enter the quantity of Rs10 coins\"))\n",
    "qty_five=int(input(\"Enter the quantity of Rs5 coins\"))\n",
    "qty_two=int(input(\"Enter the quantity of Rs2 coins\"))\n",
    "qty_one=int(input(\"Enter the quantity of Rs1 coins\"))\n",
    "Total_amount=qty_ten*10+qty_five*5+qty_two*2+qty_one*1\n",
    "print(f\"The quantity of Rs10 coins is: {qty_ten}\")\n",
    "print(f\"The quantity of Rs5 coins is: {qty_five}\")\n",
    "print(f\"The quantity of Rs2 coins is: {qty_two}\")\n",
    "print(f\"The quantity of Rs1 coins is: {qty_one}\")\n",
    "print(f\"The total amount in the piggy_bank is: {Total_amount}\")"
   ]
  },
  {
   "cell_type": "code",
   "execution_count": null,
   "id": "44d861c9",
   "metadata": {},
   "outputs": [],
   "source": []
  }
 ],
 "metadata": {
  "kernelspec": {
   "display_name": "Python 3",
   "language": "python",
   "name": "python3"
  },
  "language_info": {
   "codemirror_mode": {
    "name": "ipython",
    "version": 3
   },
   "file_extension": ".py",
   "mimetype": "text/x-python",
   "name": "python",
   "nbconvert_exporter": "python",
   "pygments_lexer": "ipython3",
   "version": "3.12.8"
  }
 },
 "nbformat": 4,
 "nbformat_minor": 5
}
