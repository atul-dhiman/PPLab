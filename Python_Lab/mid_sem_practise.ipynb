{
 "cells": [
  {
   "cell_type": "code",
   "execution_count": 1,
   "id": "564c6b78",
   "metadata": {},
   "outputs": [
    {
     "name": "stdout",
     "output_type": "stream",
     "text": [
      "What's your name?\n"
     ]
    }
   ],
   "source": [
    "print(\"What\\'s your name?\")"
   ]
  },
  {
   "cell_type": "code",
   "execution_count": null,
   "id": "1df63fb8",
   "metadata": {},
   "outputs": [
    {
     "name": "stdout",
     "output_type": "stream",
     "text": [
      "Hello World\n"
     ]
    }
   ],
   "source": [
    "mess=\"Hello World\"\n",
    "print(mess)"
   ]
  },
  {
   "cell_type": "code",
   "execution_count": 5,
   "id": "9b71119a",
   "metadata": {},
   "outputs": [
    {
     "name": "stdout",
     "output_type": "stream",
     "text": [
      "The hex of the number is 0x17\n",
      "The oct of the number is 0o27\n"
     ]
    }
   ],
   "source": [
    "num=int(input(\"Enter the num: \"))\n",
    "print(f\"The hex of the number is {hex(num)}\")\n",
    "print(f\"The oct of the number is {oct(num)}\")\n"
   ]
  },
  {
   "cell_type": "code",
   "execution_count": 9,
   "id": "b9ed14b0",
   "metadata": {},
   "outputs": [
    {
     "name": "stdout",
     "output_type": "stream",
     "text": [
      "10.25\n",
      "10.25\n",
      "10.25\n"
     ]
    }
   ],
   "source": [
    "a=10.2455543\n",
    "print('%.2f' %a)\n",
    "print(format(a,'.2f'))\n",
    "print(f'{a:.2f}')"
   ]
  },
  {
   "cell_type": "code",
   "execution_count": 10,
   "id": "aa98c55b",
   "metadata": {},
   "outputs": [
    {
     "name": "stdout",
     "output_type": "stream",
     "text": [
      "Fahrenhiet 300.00 = Celcius 148.89\n"
     ]
    }
   ],
   "source": [
    "fah=int(input(\"Enter the input in fahrenhiet\"))\n",
    "cel=(fah-32)*5/9\n",
    "print(f\"Fahrenhiet {fah:.2f} = Celcius {cel:.2f}\")"
   ]
  },
  {
   "cell_type": "code",
   "execution_count": 12,
   "id": "f1ba636c",
   "metadata": {},
   "outputs": [
    {
     "name": "stdout",
     "output_type": "stream",
     "text": [
      "23 is a prime number\n"
     ]
    }
   ],
   "source": [
    "import math\n",
    "num=int(input(\"Enter the number\"))\n",
    "if num<=1:\n",
    "    print(f\"The number must be greater than 1\")\n",
    "elif num==2:\n",
    "    print(f\"two is even prime number\")\n",
    "elif num%2==0:\n",
    "    print(f\"Number is not prime\")\n",
    "else:\n",
    "    for i in range(3,int(math.sqrt(num))+1,2):\n",
    "        if num%i==0:\n",
    "            print(f\"{num} is not a prime number\")\n",
    "        else:\n",
    "            print(f\"{num} is a prime number\")"
   ]
  },
  {
   "cell_type": "code",
   "execution_count": 13,
   "id": "3a500a8d",
   "metadata": {},
   "outputs": [
    {
     "name": "stdout",
     "output_type": "stream",
     "text": [
      "153 is an Armstrong number.\n"
     ]
    }
   ],
   "source": [
    "num=int(input(\"The number:\"))\n",
    "num_digits=len(str(num))\n",
    "sum_of_powers=0\n",
    "temp=num\n",
    "while temp>0:\n",
    "    digit=temp%10\n",
    "    sum_of_powers+=digit**num_digits\n",
    "    temp//=10\n",
    "if num == sum_of_powers:\n",
    "    print(f\"{num} is an Armstrong number.\")\n",
    "else:\n",
    "    print(f\"{num} is not an Armstrong number.\")"
   ]
  },
  {
   "cell_type": "code",
   "execution_count": 16,
   "id": "ef016992",
   "metadata": {},
   "outputs": [
    {
     "name": "stdout",
     "output_type": "stream",
     "text": [
      "143\n",
      "The reverse of a number is: 341 \n"
     ]
    }
   ],
   "source": [
    "num=int(input(\"The number:\"))\n",
    "print(num)\n",
    "temp=num\n",
    "rev=0\n",
    "while temp>0:\n",
    "    digit=temp%10\n",
    "    rev=rev*10+digit\n",
    "    temp//=10\n",
    "print(f\"The reverse of a number is: {rev} \")"
   ]
  },
  {
   "cell_type": "code",
   "execution_count": 17,
   "id": "681447a6",
   "metadata": {},
   "outputs": [
    {
     "name": "stdout",
     "output_type": "stream",
     "text": [
      "143\n",
      "8\n"
     ]
    }
   ],
   "source": [
    "num=int(input(\"The number:\"))\n",
    "print(num)\n",
    "temp=num\n",
    "sum=0\n",
    "while temp>0:\n",
    "    digit=temp%10\n",
    "    sum=sum+digit\n",
    "    temp//=10\n",
    "print(sum)\n"
   ]
  },
  {
   "cell_type": "code",
   "execution_count": 46,
   "id": "65c64c3f",
   "metadata": {},
   "outputs": [
    {
     "name": "stdout",
     "output_type": "stream",
     "text": [
      "GCD is: 4\n",
      "LCM is: 12\n"
     ]
    }
   ],
   "source": [
    "a = int(input(\"Enter first number: \"))\n",
    "b = int(input(\"Enter second number: \"))\n",
    "\n",
    "# Calculate GCD\n",
    "x, y = a, b\n",
    "while y != 0:\n",
    "    x, y = y, x % y\n",
    "gcd = x\n",
    "\n",
    "# Calculate LCM using the formula: LCM = (a * b) / GCD\n",
    "lcm = (a * b) // gcd\n",
    "\n",
    "print(\"GCD is:\", gcd)\n",
    "print(\"LCM is:\", lcm)\n"
   ]
  },
  {
   "cell_type": "code",
   "execution_count": 20,
   "id": "c4a56887",
   "metadata": {},
   "outputs": [
    {
     "name": "stdout",
     "output_type": "stream",
     "text": [
      "12\n"
     ]
    }
   ],
   "source": [
    "print(12%18)"
   ]
  },
  {
   "cell_type": "code",
   "execution_count": 21,
   "id": "82672e27",
   "metadata": {},
   "outputs": [
    {
     "name": "stdout",
     "output_type": "stream",
     "text": [
      "* \n",
      "* * \n",
      "* * * \n",
      "* * * * \n",
      "* * * * * \n"
     ]
    }
   ],
   "source": [
    "n = 5\n",
    "\n",
    "for i in range(1, n + 1):\n",
    "    for j in range(i):\n",
    "        print(\"*\", end=\" \")\n",
    "    print()"
   ]
  },
  {
   "cell_type": "code",
   "execution_count": 25,
   "id": "81025a8b",
   "metadata": {},
   "outputs": [
    {
     "name": "stdout",
     "output_type": "stream",
     "text": [
      "      * \n",
      "    * * \n",
      "  * * * \n",
      "* * * * \n"
     ]
    }
   ],
   "source": [
    "n = 4\n",
    "\n",
    "for i in range(1, n + 1):\n",
    "    print(\"  \" * (n - i) + \"* \" * i)"
   ]
  },
  {
   "cell_type": "code",
   "execution_count": 27,
   "id": "97b04b52",
   "metadata": {},
   "outputs": [
    {
     "name": "stdout",
     "output_type": "stream",
     "text": [
      "   * \n",
      "  * * \n",
      " * * * \n",
      "* * * * \n"
     ]
    }
   ],
   "source": [
    "n = 4\n",
    "\n",
    "for i in range(1, n + 1):\n",
    "    print(\" \" * (n - i) + \"* \" * i)"
   ]
  },
  {
   "cell_type": "code",
   "execution_count": 30,
   "id": "3b35bb99",
   "metadata": {},
   "outputs": [
    {
     "name": "stdout",
     "output_type": "stream",
     "text": [
      "1 \n",
      "2 3 \n",
      "4 5 6 \n",
      "7 8 9 10 \n",
      "11 12 13 14 15 \n"
     ]
    }
   ],
   "source": [
    "n=5\n",
    "num=1\n",
    "for i in range(1,n+1):\n",
    "    for j in range(i):\n",
    "        print(num,end=' ')\n",
    "        num+=1\n",
    "    print()"
   ]
  },
  {
   "cell_type": "code",
   "execution_count": 32,
   "id": "9b000fcb",
   "metadata": {},
   "outputs": [
    {
     "name": "stdout",
     "output_type": "stream",
     "text": [
      "1 2 3 4 5 \n",
      "1 2 3 4 \n",
      "1 2 3 \n",
      "1 2 \n",
      "1 \n"
     ]
    }
   ],
   "source": [
    "n=5\n",
    "for i in range(5,0,-1):\n",
    "    for j in range(1,i+1):\n",
    "        print(j,end=' ')\n",
    "    print()"
   ]
  },
  {
   "cell_type": "code",
   "execution_count": 34,
   "id": "56bd51a6",
   "metadata": {},
   "outputs": [
    {
     "name": "stdout",
     "output_type": "stream",
     "text": [
      "A \n",
      "A B \n",
      "A B C \n",
      "A B C D \n",
      "A B C D E \n"
     ]
    }
   ],
   "source": [
    "n=5\n",
    "for i in range(1,n+1):\n",
    "    for j in range(i):\n",
    "        print(chr(65+j),end=' ')\n",
    "    print()"
   ]
  },
  {
   "cell_type": "code",
   "execution_count": 35,
   "id": "72c7df8c",
   "metadata": {},
   "outputs": [
    {
     "name": "stdout",
     "output_type": "stream",
     "text": [
      "    1 \n",
      "   2 2 \n",
      "  3 3 3 \n",
      " 4 4 4 4 \n",
      "5 5 5 5 5 \n"
     ]
    }
   ],
   "source": [
    "n = 5\n",
    "\n",
    "for i in range(1, n + 1):\n",
    "    print(\" \" * (n - i), end=\"\")    # Print leading spaces\n",
    "    for j in range(i):\n",
    "        print(i, end=\" \")\n",
    "    print()"
   ]
  },
  {
   "cell_type": "code",
   "execution_count": 40,
   "id": "716605ba",
   "metadata": {},
   "outputs": [
    {
     "name": "stdout",
     "output_type": "stream",
     "text": [
      "       1 \n",
      "      1 1 \n",
      "     1 2 1 \n",
      "    1 3 3 1 \n",
      "   1 4 6 4 1 \n",
      "  1 5 10 10 5 1 \n"
     ]
    }
   ],
   "source": [
    "def pascal_triangle(n):\n",
    "    for i in range(n):\n",
    "        num=1\n",
    "        print(\" \"*(n-i),end=' ')\n",
    "        for j in range(i+1):\n",
    "            print(num,end=' ')\n",
    "            num= num*(i-j)//(j+1)\n",
    "        print()\n",
    "rows=int(input(\"Enter the number of rows: \"))\n",
    "pascal_triangle(rows)\n"
   ]
  },
  {
   "cell_type": "code",
   "execution_count": 44,
   "id": "07ce86a6",
   "metadata": {},
   "outputs": [
    {
     "name": "stdout",
     "output_type": "stream",
     "text": [
      "The factorial of the 5 is :120\n"
     ]
    }
   ],
   "source": [
    "def fact(n):\n",
    "    if n==0:\n",
    "        return 1\n",
    "    elif n==1:\n",
    "        return 1\n",
    "    else:\n",
    "        return n*fact(n-1)\n",
    "print(f\"The factorial of the {n} is :{fact(5)}\")"
   ]
  },
  {
   "cell_type": "code",
   "execution_count": 47,
   "id": "f7e20a10",
   "metadata": {},
   "outputs": [
    {
     "name": "stdout",
     "output_type": "stream",
     "text": [
      "3\n"
     ]
    }
   ],
   "source": [
    "def GCD(x,y):\n",
    "    rem=x%y\n",
    "    if (rem==0):\n",
    "        return y\n",
    "    else:\n",
    "        return GCD(y,rem)\n",
    "print(GCD(12,3))"
   ]
  },
  {
   "cell_type": "code",
   "execution_count": 50,
   "id": "78488495",
   "metadata": {},
   "outputs": [
    {
     "name": "stdout",
     "output_type": "stream",
     "text": [
      "1 1 2 3 5 "
     ]
    }
   ],
   "source": [
    "def fibonacci(n):\n",
    "    if(n<2):\n",
    "        return 1\n",
    "    else:\n",
    "        return (fibonacci(n-1)+fibonacci(n-2))\n",
    "for i in range(5):\n",
    "    print(fibonacci(i),end=\" \")"
   ]
  },
  {
   "cell_type": "code",
   "execution_count": 51,
   "id": "ed5fedc5",
   "metadata": {},
   "outputs": [],
   "source": [
    "def cubesum(n):\n",
    "    sum_cubes = 0\n",
    "    while n > 0:\n",
    "        digit = n % 10\n",
    "        sum_cubes += digit ** 3\n",
    "        n //= 10\n",
    "    return sum_cubes\n",
    "def isArmstrong(n):\n",
    "    return n == cubesum(n)\n",
    "def PrintArmstrong(start, end):\n",
    "    print(f\"Armstrong numbers between {start} and {end}:\")\n",
    "    for i in range(start, end + 1):\n",
    "        if isArmstrong(i):\n",
    "            print(i)"
   ]
  },
  {
   "cell_type": "code",
   "execution_count": null,
   "id": "766d7851",
   "metadata": {},
   "outputs": [],
   "source": [
    "def find_smallest_multiple(n: int):\n",
    "    # Edge case\n",
    "    if n == 1:\n",
    "        return 1\n",
    "\n",
    "    x = n  # Start from n (since smaller numbers can’t be divisible by n)\n",
    "    while True:\n",
    "        divisible = True\n",
    "        for i in range(1, n + 1):\n",
    "            if x % i != 0:\n",
    "                divisible = False\n",
    "                break  # No need to check further\n",
    "        if divisible:\n",
    "            return x\n",
    "        x += 1\n"
   ]
  },
  {
   "cell_type": "code",
   "execution_count": null,
   "id": "0e98c65c",
   "metadata": {},
   "outputs": [],
   "source": [
    "def decimal_to_binary(n):\n",
    "    binary = \"\"\n",
    "    if n == 0:\n",
    "        return \"0\"\n",
    "    while n > 0:\n",
    "        binary = str(n % 2) + binary\n",
    "        n //= 2\n",
    "    return binary\n",
    "\n",
    "def decimal_to_octal(n):\n",
    "    octal = \"\"\n",
    "    if n == 0:\n",
    "        return \"0\"\n",
    "    while n > 0:\n",
    "        octal = str(n % 8) + octal\n",
    "        n //= 8\n",
    "    return octal\n",
    "\n",
    "def decimal_to_hexadecimal(n):\n",
    "    hex_digits = \"0123456789ABCDEF\"\n",
    "    hexa = \"\"\n",
    "    if n == 0:\n",
    "        return \"0\"\n",
    "    while n > 0:\n",
    "        hexa = hex_digits[n % 16] + hexa\n",
    "        n //= 16\n",
    "    return hexa\n",
    "\n",
    "# Input from user\n",
    "decimal = int(input(\"Enter a decimal number: \"))\n",
    "\n",
    "print(\"Binary:\", decimal_to_binary(decimal))\n",
    "print(\"Octal:\", decimal_to_octal(decimal))\n",
    "print(\"Hexadecimal:\", decimal_to_hexadecimal(decimal))\n"
   ]
  },
  {
   "cell_type": "code",
   "execution_count": null,
   "id": "7f6497f2",
   "metadata": {},
   "outputs": [],
   "source": [
    "def squares_list():\n",
    "    squares = []\n",
    "    for i in range(1, 31):  # Numbers from 1 to 30\n",
    "        squares.append(i ** 2)\n",
    "    print(squares)\n",
    "\n",
    "# Call the function\n",
    "squares_list()\n"
   ]
  },
  {
   "cell_type": "code",
   "execution_count": null,
   "id": "5386200f",
   "metadata": {},
   "outputs": [],
   "source": [
    "def squares_list():\n",
    "    squares = [i**2 for i in range(1, 31)]\n",
    "    print(squares)\n",
    "\n",
    "squares_list()\n"
   ]
  },
  {
   "cell_type": "code",
   "execution_count": null,
   "id": "516f3723",
   "metadata": {},
   "outputs": [],
   "source": [
    "# Input sentence from user\n",
    "sentence = input(\"Enter a sentence: \")\n",
    "\n",
    "# Initialize counters\n",
    "vowels = 0\n",
    "consonants = 0\n",
    "digits = 0\n",
    "special_chars = 0\n",
    "\n",
    "# Define vowels\n",
    "vowel_letters = \"AEIOUaeiou\"\n",
    "\n",
    "# Iterate through each character\n",
    "for char in sentence:\n",
    "    if char.isdigit():\n",
    "        digits += 1\n",
    "    elif char.isalpha():\n",
    "        if char in vowel_letters:\n",
    "            vowels += 1\n",
    "        else:\n",
    "            consonants += 1\n",
    "    else:\n",
    "        special_chars += 1\n",
    "\n",
    "# Print results\n",
    "print(\"Vowels:\", vowels)\n",
    "print(\"Consonants:\", consonants)\n",
    "print(\"Digits:\", digits)\n",
    "print(\"Special Characters:\", special_chars)\n"
   ]
  },
  {
   "cell_type": "code",
   "execution_count": null,
   "id": "0398073a",
   "metadata": {},
   "outputs": [],
   "source": [
    "# Create dictionary of students and their marks\n",
    "students = {}\n",
    "\n",
    "# Input number of students\n",
    "n = int(input(\"Enter number of students: \"))\n",
    "\n",
    "for _ in range(n):\n",
    "    name = input(\"Enter student name: \")\n",
    "    marks = float(input(f\"Enter marks for {name}: \"))\n",
    "    students[name] = marks\n",
    "\n",
    "# Find student with highest marks\n",
    "highest_student = max(students, key=students.get)\n",
    "highest_marks = students[highest_student]\n",
    "\n",
    "# Find student with lowest marks\n",
    "lowest_student = min(students, key=students.get)\n",
    "lowest_marks = students[lowest_student]\n",
    "\n",
    "# Print results\n",
    "print(f\"\\nStudent with highest marks: {highest_student} ({highest_marks})\")\n",
    "print(f\"Student with lowest marks: {lowest_student} ({lowest_marks})\")\n"
   ]
  }
 ],
 "metadata": {
  "kernelspec": {
   "display_name": "Python 3",
   "language": "python",
   "name": "python3"
  },
  "language_info": {
   "codemirror_mode": {
    "name": "ipython",
    "version": 3
   },
   "file_extension": ".py",
   "mimetype": "text/x-python",
   "name": "python",
   "nbconvert_exporter": "python",
   "pygments_lexer": "ipython3",
   "version": "3.13.7"
  }
 },
 "nbformat": 4,
 "nbformat_minor": 5
}
