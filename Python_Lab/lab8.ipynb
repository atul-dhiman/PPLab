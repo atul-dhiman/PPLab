{
 "cells": [
  {
   "cell_type": "code",
   "execution_count": 3,
   "id": "b92c0825",
   "metadata": {},
   "outputs": [
    {
     "name": "stdout",
     "output_type": "stream",
     "text": [
      "Encrypted message: PTMD RYLBAF\n"
     ]
    }
   ],
   "source": [
    "def encrypt_message_vigenere(message, key):\n",
    "    encrypted = ''\n",
    "    key = key.upper()\n",
    "    key_len = len(key)\n",
    "\n",
    "    for i, c in enumerate(message.upper()):\n",
    "        if c.isalpha():\n",
    "            shift = ord(key[i % key_len]) - ord('A')\n",
    "            encrypted += chr((ord(c) - ord('A') + shift) % 26 + ord('A'))\n",
    "        else:\n",
    "            encrypted += c\n",
    "    return encrypted\n",
    "\n",
    "msg = input(\"Enter message to encrypt: \")\n",
    "key = input(\"Enter key string: \")\n",
    "print(\"Encrypted message:\", encrypt_message_vigenere(msg, key))\n"
   ]
  },
  {
   "cell_type": "code",
   "execution_count": 5,
   "id": "ddbf6063",
   "metadata": {},
   "outputs": [
    {
     "name": "stdout",
     "output_type": "stream",
     "text": [
      "Character 't' found at indices: [1]\n"
     ]
    }
   ],
   "source": [
    "# Q2: Find character in string and print indices\n",
    "def find_char_indices(s, ch):\n",
    "    indices = [i for i in range(len(s)) if s[i] == ch]\n",
    "    return indices\n",
    "\n",
    "s = input(\"Enter string: \")\n",
    "c = input(\"Enter character to find: \")\n",
    "indices = find_char_indices(s, c)\n",
    "if indices:\n",
    "    print(f\"Character '{c}' found at indices:\", indices)\n",
    "else:\n",
    "    print(f\"Character '{c}' not found\")"
   ]
  },
  {
   "cell_type": "code",
   "execution_count": 6,
   "id": "9cbcdd26",
   "metadata": {},
   "outputs": [
    {
     "name": "stdout",
     "output_type": "stream",
     "text": [
      "Character 'a' occurs 3 times\n"
     ]
    }
   ],
   "source": [
    "# Q3: Count occurrences of character\n",
    "def count_char(s, ch):\n",
    "    count = 0\n",
    "    for char in s:\n",
    "        if char == ch:\n",
    "            count += 1\n",
    "    return count\n",
    "\n",
    "s = input(\"Enter string: \")\n",
    "c = input(\"Enter character to count: \")\n",
    "print(f\"Character '{c}' occurs {count_char(s, c)} times\")"
   ]
  },
  {
   "cell_type": "code",
   "execution_count": 7,
   "id": "00e17013",
   "metadata": {},
   "outputs": [
    {
     "name": "stdout",
     "output_type": "stream",
     "text": [
      "Result: anananan\n"
     ]
    }
   ],
   "source": [
    "# Q4: Four copies of last two characters\n",
    "def four_copies_last_two(s):\n",
    "    if len(s) < 2:\n",
    "        return \"String too short\"\n",
    "    return s[-2:] * 4\n",
    "\n",
    "s = input(\"Enter string: \")\n",
    "print(f\"Result:\", four_copies_last_two(s))"
   ]
  },
  {
   "cell_type": "code",
   "execution_count": 13,
   "id": "a86703f9",
   "metadata": {},
   "outputs": [
    {
     "name": "stdout",
     "output_type": "stream",
     "text": [
      "Result: lutA\n"
     ]
    }
   ],
   "source": [
    "# Q5: Reverse string if length multiple of 4\n",
    "def reverse_if_multiple_of_four(s):\n",
    "    if len(s) % 4 == 0:\n",
    "        return s[::-1]\n",
    "    return s\n",
    "\n",
    "s = input(\"Enter string: \")\n",
    "print(f\"Result:\", reverse_if_multiple_of_four(s))"
   ]
  },
  {
   "cell_type": "code",
   "execution_count": 14,
   "id": "94cd9b88",
   "metadata": {},
   "outputs": [
    {
     "name": "stdout",
     "output_type": "stream",
     "text": [
      "Contains vowel: True\n"
     ]
    }
   ],
   "source": [
    "# Q6: Check if string has at least one vowel\n",
    "def has_vowel(s):\n",
    "    vowels = \"aeiouAEIOU\"\n",
    "    for c in s:\n",
    "        if c in vowels:\n",
    "            return True\n",
    "    return False\n",
    "\n",
    "s = input(\"Enter string: \")\n",
    "print(\"Contains vowel:\" , has_vowel(s))"
   ]
  },
  {
   "cell_type": "code",
   "execution_count": 16,
   "id": "bf83677c",
   "metadata": {},
   "outputs": [
    {
     "name": "stdout",
     "output_type": "stream",
     "text": [
      "Matches pattern: False\n"
     ]
    }
   ],
   "source": [
    "# Q7: Regex match strings starting with digits, followed by space, then arbitrary characters\n",
    "import re\n",
    "def match_pattern(s):\n",
    "    pattern = r'^\\d+ .+'\n",
    "    return bool(re.match(pattern, s))\n",
    "\n",
    "s = input(\"Enter string to check regex pattern: \")\n",
    "print(\"Matches pattern:\", match_pattern(s))"
   ]
  },
  {
   "cell_type": "code",
   "execution_count": 17,
   "id": "66ecdca2",
   "metadata": {},
   "outputs": [
    {
     "name": "stdout",
     "output_type": "stream",
     "text": [
      "First two chars (simple): ['At', 'Dh', 'Ar', 'In']\n",
      "First two chars (regex): ['At', 'Dh', 'Ar', 'In']\n"
     ]
    }
   ],
   "source": [
    "# Q8: Print first two characters of every word\n",
    "def first_two_chars_simple(s):\n",
    "    words = s.split()\n",
    "    return [w[:2] for w in words]\n",
    "\n",
    "def first_two_chars_regex(s):\n",
    "    return re.findall(r'\\b(\\w{1,2})', s)\n",
    "\n",
    "s = input(\"Enter string: \")\n",
    "print(\"First two chars (simple):\", first_two_chars_simple(s))\n",
    "print(\"First two chars (regex):\", first_two_chars_regex(s))"
   ]
  }
 ],
 "metadata": {
  "kernelspec": {
   "display_name": "Python 3",
   "language": "python",
   "name": "python3"
  },
  "language_info": {
   "codemirror_mode": {
    "name": "ipython",
    "version": 3
   },
   "file_extension": ".py",
   "mimetype": "text/x-python",
   "name": "python",
   "nbconvert_exporter": "python",
   "pygments_lexer": "ipython3",
   "version": "3.13.7"
  }
 },
 "nbformat": 4,
 "nbformat_minor": 5
}
