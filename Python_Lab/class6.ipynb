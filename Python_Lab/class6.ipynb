{
 "cells": [
  {
   "cell_type": "markdown",
   "id": "3b91d4a2",
   "metadata": {},
   "source": [
    "##### break"
   ]
  },
  {
   "cell_type": "code",
   "execution_count": 2,
   "id": "dcd882bc",
   "metadata": {},
   "outputs": [
    {
     "name": "stdout",
     "output_type": "stream",
     "text": [
      "0\n",
      "1\n",
      "2\n",
      "3\n",
      "4\n"
     ]
    }
   ],
   "source": [
    "for i in range(10):\n",
    "    if (i==5):\n",
    "        break\n",
    "    print(i)"
   ]
  },
  {
   "cell_type": "code",
   "execution_count": 3,
   "id": "2cf99d18",
   "metadata": {},
   "outputs": [
    {
     "name": "stdout",
     "output_type": "stream",
     "text": [
      "0\n",
      "1\n",
      "2\n",
      "3\n",
      "4\n",
      "6\n",
      "7\n",
      "8\n",
      "9\n"
     ]
    }
   ],
   "source": [
    "for i in range(10):\n",
    "    if (i==5):\n",
    "        continue\n",
    "    print(i)"
   ]
  },
  {
   "cell_type": "code",
   "execution_count": null,
   "id": "1d6655fb",
   "metadata": {},
   "outputs": [
    {
     "name": "stdout",
     "output_type": "stream",
     "text": [
      "30\n"
     ]
    }
   ],
   "source": [
    "def addition(x,y):\n",
    "    return x+y\n",
    "print(addition(10,20))"
   ]
  },
  {
   "cell_type": "code",
   "execution_count": null,
   "id": "3f777cb7",
   "metadata": {},
   "outputs": [
    {
     "name": "stdout",
     "output_type": "stream",
     "text": [
      "\n",
      " Hello World! 35\n"
     ]
    }
   ],
   "source": [
    "def func(i):\n",
    "    print(\"Hello World!\",i)\n",
    "func(5+2*15)"
   ]
  },
  {
   "cell_type": "code",
   "execution_count": 8,
   "id": "818b7636",
   "metadata": {},
   "outputs": [
    {
     "name": "stdout",
     "output_type": "stream",
     "text": [
      "Global variable num1=  10\n",
      "In function -Local variable num2  20\n",
      "In function- Local variable num3 10\n",
      "Num1 again 10\n"
     ]
    },
    {
     "ename": "NameError",
     "evalue": "name 'num3' is not defined",
     "output_type": "error",
     "traceback": [
      "\u001b[1;31m---------------------------------------------------------------------------\u001b[0m",
      "\u001b[1;31mNameError\u001b[0m                                 Traceback (most recent call last)",
      "Cell \u001b[1;32mIn[8], line 9\u001b[0m\n\u001b[0;32m      7\u001b[0m func(\u001b[38;5;241m20\u001b[39m)\n\u001b[0;32m      8\u001b[0m \u001b[38;5;28mprint\u001b[39m(\u001b[38;5;124m\"\u001b[39m\u001b[38;5;124mNum1 again\u001b[39m\u001b[38;5;124m\"\u001b[39m,num1)\n\u001b[1;32m----> 9\u001b[0m \u001b[38;5;28mprint\u001b[39m(\u001b[38;5;124m\"\u001b[39m\u001b[38;5;124mNum3 outside function\u001b[39m\u001b[38;5;124m\"\u001b[39m,\u001b[43mnum3\u001b[49m)\n",
      "\u001b[1;31mNameError\u001b[0m: name 'num3' is not defined"
     ]
    }
   ],
   "source": [
    "num1=10\n",
    "print(\"Global variable num1= \",num1)\n",
    "def func(num2):\n",
    "    print(\"In function -Local variable num2 \",num2)\n",
    "    num3=10\n",
    "    print(\"In function- Local variable num3\",num3)\n",
    "func(20)\n",
    "print(\"Num1 again\",num1)\n",
    "print(\"Num3 outside function\",num3)\n"
   ]
  },
  {
   "cell_type": "code",
   "execution_count": null,
   "id": "a673e6b9",
   "metadata": {},
   "outputs": [],
   "source": []
  }
 ],
 "metadata": {
  "kernelspec": {
   "display_name": "Python 3",
   "language": "python",
   "name": "python3"
  },
  "language_info": {
   "codemirror_mode": {
    "name": "ipython",
    "version": 3
   },
   "file_extension": ".py",
   "mimetype": "text/x-python",
   "name": "python",
   "nbconvert_exporter": "python",
   "pygments_lexer": "ipython3",
   "version": "3.12.8"
  }
 },
 "nbformat": 4,
 "nbformat_minor": 5
}
