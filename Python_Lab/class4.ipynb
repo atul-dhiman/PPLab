{
 "cells": [
  {
   "cell_type": "markdown",
   "id": "bcd28b79",
   "metadata": {},
   "source": [
    "# Control Statement"
   ]
  },
  {
   "cell_type": "markdown",
   "id": "c2a3b9fd",
   "metadata": {},
   "source": [
    "Sequential  \n",
    "Selection  \n",
    "Iterative"
   ]
  },
  {
   "cell_type": "markdown",
   "id": "5fb670fb",
   "metadata": {},
   "source": [
    "#### if statement  \n",
    "if test expression:  \n",
    "    statement 1  \n",
    "    statement 2\n"
   ]
  },
  {
   "cell_type": "code",
   "execution_count": 2,
   "id": "42805b4d",
   "metadata": {},
   "outputs": [
    {
     "name": "stdout",
     "output_type": "stream",
     "text": [
      "11\n"
     ]
    }
   ],
   "source": [
    "x=10\n",
    "if (x>0):\n",
    "    x+=1\n",
    "print(x)"
   ]
  },
  {
   "cell_type": "code",
   "execution_count": 5,
   "id": "9d5e97ad",
   "metadata": {},
   "outputs": [
    {
     "name": "stdout",
     "output_type": "stream",
     "text": [
      "Eligible to vote\n"
     ]
    }
   ],
   "source": [
    "age=int(input(\"Enter the age: \"))\n",
    "if (age>18):\n",
    "    print(\"Eligible to vote\")\n",
    "else:\n",
    "    print(\"Not eligible to vote\")"
   ]
  },
  {
   "cell_type": "code",
   "execution_count": 7,
   "id": "2cf27e53",
   "metadata": {},
   "outputs": [
    {
     "name": "stdout",
     "output_type": "stream",
     "text": [
      "The user has entered a digit\n"
     ]
    }
   ],
   "source": [
    "## wap to determine the character entered by user \n",
    "char=input(\"Press any key\")\n",
    "if (char.isalpha()):\n",
    "    print(\"The user has entered a character\")\n",
    "if (char.isdigit()):\n",
    "    print(\"The user has entered a digit\")\n",
    "if (char.isspace()):\n",
    "    print(\"The user has entered a white space character\")\n",
    "    "
   ]
  },
  {
   "cell_type": "code",
   "execution_count": 10,
   "id": "57c38c7b",
   "metadata": {},
   "outputs": [
    {
     "name": "stdout",
     "output_type": "stream",
     "text": [
      "You have to 2 years to be eligible to vote\n"
     ]
    }
   ],
   "source": [
    "age=int(input(\"Enter the age: \"))\n",
    "if (age>=18):\n",
    "    print(\"Eligible to vote\")\n",
    "else:\n",
    "    age1=18-age\n",
    "    print(f\"You have to {age1} years to be eligible to vote\")"
   ]
  },
  {
   "cell_type": "code",
   "execution_count": null,
   "id": "600f37a7",
   "metadata": {},
   "outputs": [
    {
     "name": "stdout",
     "output_type": "stream",
     "text": [
      "23 is the greater number\n"
     ]
    }
   ],
   "source": [
    "a=int(input(\"Enter first number \"))\n",
    "b=int(input(\"Enter second number \"))\n",
    "if (a>b):\n",
    "    print(f\"{a} is the greater number\")\n",
    "else:\n",
    "    print(f\"{b} is the greater number\")"
   ]
  },
  {
   "cell_type": "code",
   "execution_count": null,
   "id": "577af4bb",
   "metadata": {},
   "outputs": [],
   "source": [
    "a=input(\"Enter the charater\")\n",
    "#import pdb;pdb.set_trace()\n",
    "if (a.upper()):\n",
    "    b=a.lower()\n",
    "    print(f\"The character {a} was in upper case and is converted to lower case as {b}\")\n",
    "else:\n",
    "    print(f\"The character is already in upper case\")"
   ]
  }
 ],
 "metadata": {
  "kernelspec": {
   "display_name": "Python 3",
   "language": "python",
   "name": "python3"
  },
  "language_info": {
   "codemirror_mode": {
    "name": "ipython",
    "version": 3
   },
   "file_extension": ".py",
   "mimetype": "text/x-python",
   "name": "python",
   "nbconvert_exporter": "python",
   "pygments_lexer": "ipython3",
   "version": "3.12.8"
  }
 },
 "nbformat": 4,
 "nbformat_minor": 5
}
