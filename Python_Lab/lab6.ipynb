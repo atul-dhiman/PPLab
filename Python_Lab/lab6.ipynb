{
 "cells": [
  {
   "cell_type": "code",
   "execution_count": null,
   "id": "311ea90a",
   "metadata": {},
   "outputs": [
    {
     "name": "stdout",
     "output_type": "stream",
     "text": [
      "red apple\n",
      "red banana\n",
      "red cherry\n",
      "big apple\n",
      "big banana\n",
      "big cherry\n",
      "tasty apple\n",
      "tasty banana\n",
      "tasty cherry\n"
     ]
    }
   ],
   "source": [
    "## question 5\n",
    "adjectives=[\"red\",\"big\",\"tasty\"]\n",
    "fruits=[\"apple\",\"banana\",\"cherry\"]\n",
    "for i in adjectives:\n",
    "    for j in fruits:\n",
    "        print(i,j)"
   ]
  },
  {
   "cell_type": "code",
   "execution_count": 6,
   "id": "e6051adf",
   "metadata": {},
   "outputs": [
    {
     "name": "stdout",
     "output_type": "stream",
     "text": [
      "Fibonacci sequence:\n",
      "0 1 1 2 3 5 8 "
     ]
    }
   ],
   "source": [
    "# question 7\n",
    "n = int(input(\"Enter number of terms: \"))\n",
    "a, b = 0, 1\n",
    "print(\"Fibonacci sequence:\")\n",
    "for _ in range(n):\n",
    "    print(a, end=\" \")\n",
    "    a, b = b, a + b"
   ]
  },
  {
   "cell_type": "code",
   "execution_count": 5,
   "id": "5baacb66",
   "metadata": {},
   "outputs": [
    {
     "name": "stdout",
     "output_type": "stream",
     "text": [
      "(0, 0)(0, 1)(0, 2)\n",
      "(1, 0)(1, 1)(1, 2)\n",
      "(2, 0)(2, 1)(2, 2)\n"
     ]
    }
   ],
   "source": [
    "#question 2\n",
    "for i in range(0,3):\n",
    "    for j in range(0,3):\n",
    "        print((i,j),end=\"\")\n",
    "    print()"
   ]
  },
  {
   "cell_type": "code",
   "execution_count": 8,
   "id": "e6411505",
   "metadata": {},
   "outputs": [
    {
     "name": "stdout",
     "output_type": "stream",
     "text": [
      "53 59 61 67 71 73 79 83 89 97 "
     ]
    }
   ],
   "source": [
    "#question 8\n",
    "for num in range(50, 101):           \n",
    "    if num > 1:                      \n",
    "        for i in range(2, int(num**0.5) + 1): \n",
    "            if num % i == 0:\n",
    "                break                \n",
    "        else:\n",
    "            print(num, end=\" \")\n"
   ]
  },
  {
   "cell_type": "code",
   "execution_count": 13,
   "id": "988fe522",
   "metadata": {},
   "outputs": [
    {
     "name": "stdout",
     "output_type": "stream",
     "text": [
      "* - - \n",
      "- * - \n",
      "- - * \n"
     ]
    }
   ],
   "source": [
    "#question 9\n",
    "n = 3\n",
    "for i in range(n):          \n",
    "    for j in range(n):     \n",
    "        if i == j:          \n",
    "            print(\"*\", end=\" \")\n",
    "        else:\n",
    "            print(\"-\", end=\" \")\n",
    "    print() "
   ]
  },
  {
   "cell_type": "code",
   "execution_count": null,
   "id": "8147af0c",
   "metadata": {},
   "outputs": [
    {
     "name": "stdout",
     "output_type": "stream",
     "text": [
      "*\n",
      "**\n",
      "***\n",
      "****\n",
      "*****\n",
      "****\n",
      "***\n",
      "**\n",
      "*\n"
     ]
    }
   ],
   "source": [
    "#question 4\n",
    "n = 5  \n",
    "for i in range(1, n + 1):\n",
    "    print(\"*\" * i)\n",
    "\n",
    "for i in range(n - 1, 0, -1):\n",
    "    print(\"*\" * i)\n"
   ]
  },
  {
   "cell_type": "code",
   "execution_count": null,
   "id": "a6a13118",
   "metadata": {},
   "outputs": [
    {
     "name": "stdout",
     "output_type": "stream",
     "text": [
      "Sum = 7.980122655122655\n"
     ]
    }
   ],
   "source": [
    "#question 1.1\n",
    "n=int(input(\"Enter the value of n\"))     \n",
    "total = 0.0\n",
    "for k in range(1, n + 1):\n",
    "    total += k / (k + 1)\n",
    "print(\"Sum =\", total)\n"
   ]
  },
  {
   "cell_type": "code",
   "execution_count": 18,
   "id": "99b401e6",
   "metadata": {},
   "outputs": [
    {
     "name": "stdout",
     "output_type": "stream",
     "text": [
      "Sum = 55.0\n"
     ]
    }
   ],
   "source": [
    "#question 1.2\n",
    "n=int(input(\"Enter the value of n\"))     \n",
    "total = 0.0\n",
    "for k in range(1, n + 1):\n",
    "    total += (k**2) / (k)\n",
    "print(\"Sum =\", total)\n"
   ]
  },
  {
   "cell_type": "code",
   "execution_count": null,
   "id": "87114c92",
   "metadata": {},
   "outputs": [
    {
     "name": "stdout",
     "output_type": "stream",
     "text": [
      "Resultant matrix:\n",
      "[58, 64]\n",
      "[139, 154]\n"
     ]
    }
   ],
   "source": [
    "# question 3\n",
    "\n",
    "A = [[1, 2, 3],\n",
    "     [4, 5, 6]]\n",
    "\n",
    "B = [[7, 8],\n",
    "     [9, 10],\n",
    "     [11, 12]]\n",
    "\n",
    "m = len(A)        \n",
    "n = len(A[0])    \n",
    "p = len(B[0])     \n",
    "\n",
    "# Initialize result matrix with zeros (m × p)\n",
    "C = [[0 for _ in range(p)] for _ in range(m)]\n",
    "\n",
    "for i in range(m):            \n",
    "    for j in range(p):         \n",
    "        for k in range(n):      \n",
    "            C[i][j] += A[i][k] * B[k][j]\n",
    "\n",
    "print(\"Resultant matrix:\")\n",
    "for row in C:\n",
    "    print(row)\n"
   ]
  },
  {
   "cell_type": "code",
   "execution_count": 23,
   "id": "1480dcf9",
   "metadata": {},
   "outputs": [
    {
     "name": "stdout",
     "output_type": "stream",
     "text": [
      "   *\n",
      "  ***\n",
      " *****\n",
      "*******\n",
      "*******\n",
      " *****\n",
      "  ***\n",
      "   *\n"
     ]
    }
   ],
   "source": [
    "#question 6\n",
    "n = 4 \n",
    "for i in range(1, n + 1):\n",
    "    print(\" \" * (n - i) + \"*\" * (2 * i - 1))\n",
    "for i in range(n, 0, -1):\n",
    "    print(\" \" * (n - i) + \"*\" * (2 * i - 1))\n"
   ]
  },
  {
   "cell_type": "code",
   "execution_count": 25,
   "id": "e6940b58",
   "metadata": {},
   "outputs": [
    {
     "name": "stdout",
     "output_type": "stream",
     "text": [
      "* * * * * \n",
      "*       * \n",
      "*       * \n",
      "*       * \n",
      "* * * * * \n"
     ]
    }
   ],
   "source": [
    "# question 10\n",
    "n = 5\n",
    "for i in range(n):          \n",
    "    for j in range(n):     \n",
    "        if i == 0 or i == n-1 or j ==0 or j==n-1:          \n",
    "            print(\"*\", end=\" \")\n",
    "        else:\n",
    "            print(\" \", end=\" \")\n",
    "    print() "
   ]
  },
  {
   "cell_type": "code",
   "execution_count": null,
   "id": "85c72898",
   "metadata": {},
   "outputs": [],
   "source": []
  }
 ],
 "metadata": {
  "kernelspec": {
   "display_name": "Python 3",
   "language": "python",
   "name": "python3"
  },
  "language_info": {
   "codemirror_mode": {
    "name": "ipython",
    "version": 3
   },
   "file_extension": ".py",
   "mimetype": "text/x-python",
   "name": "python",
   "nbconvert_exporter": "python",
   "pygments_lexer": "ipython3",
   "version": "3.12.8"
  }
 },
 "nbformat": 4,
 "nbformat_minor": 5
}
