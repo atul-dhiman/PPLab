{
 "cells": [
  {
   "cell_type": "markdown",
   "id": "fa586442",
   "metadata": {},
   "source": [
    "# Strings"
   ]
  },
  {
   "cell_type": "markdown",
   "id": "d1d39e91",
   "metadata": {},
   "source": [
    "Concatenation"
   ]
  },
  {
   "cell_type": "code",
   "execution_count": null,
   "id": "c2f1ab96",
   "metadata": {},
   "outputs": [
    {
     "name": "stdout",
     "output_type": "stream",
     "text": [
      "Good Morning\n",
      "Python 3.12\n",
      "1234\n",
      "Artificial Intelligence Artificial Intelligence \n"
     ]
    }
   ],
   "source": [
    "print(\"Good\"+\" \"+\"Morning\")\n",
    "print(\"Python \"+\"3.12\")\n",
    "print(\"12\"+\"34\")\n"
   ]
  },
  {
   "cell_type": "markdown",
   "id": "4acddb6d",
   "metadata": {},
   "source": [
    "##### Multiplication"
   ]
  },
  {
   "cell_type": "code",
   "execution_count": null,
   "id": "3bc0ec73",
   "metadata": {},
   "outputs": [
    {
     "name": "stdout",
     "output_type": "stream",
     "text": [
      "Artificial Intelligence Artificial Intelligence \n"
     ]
    }
   ],
   "source": [
    "print(\"Artificial Intelligence \"*2)  ## string repeatition\n",
    "# print(\"Artificial Intelligence \"*\"2\")  ------ error"
   ]
  },
  {
   "cell_type": "markdown",
   "id": "9423f1ca",
   "metadata": {},
   "source": [
    "#### Slicing\n"
   ]
  },
  {
   "cell_type": "code",
   "execution_count": 25,
   "id": "0fbbf792",
   "metadata": {},
   "outputs": [
    {
     "name": "stdout",
     "output_type": "stream",
     "text": [
      "Python is Easy!!\n",
      "P\n",
      "thon i\n",
      "!\n",
      "Python is Easy!\n",
      "on is Easy!!\n"
     ]
    }
   ],
   "source": [
    "str=\"Python is Easy!!\"\n",
    "print(str)\n",
    "print(str[0])\n",
    "print(str[2:8])\n",
    "print(str[-1])\n",
    "print(str[:-1])\n",
    "print(str[4:])"
   ]
  },
  {
   "cell_type": "markdown",
   "id": "75dbe151",
   "metadata": {},
   "source": [
    "### Unicode String\n",
    "It is a standard way of writing international Text. Python has unicode text editor prefixing string with U or u. Python allows you specify unicode text."
   ]
  },
  {
   "cell_type": "markdown",
   "id": "ba8f4d75",
   "metadata": {},
   "source": [
    "### Escape Sequence\n",
    "Its a combination of characters that is translated to another character or sequennce of character that may be difficult or impossible to represent directly.\n",
    "When specifying string with \\ at the end of line is added,it indicates,string is continued in next line,but no new line is there otherwise."
   ]
  },
  {
   "cell_type": "code",
   "execution_count": 55,
   "id": "5d78f85c",
   "metadata": {},
   "outputs": [
    {
     "name": "stdout",
     "output_type": "stream",
     "text": [
      "What's your name?\n",
      "What's your name?\n",
      "The boy replies,\n",
      "My name is Atul\n",
      "The boy replies,\tMy name is Atul\n"
     ]
    }
   ],
   "source": [
    "print(\"What's your name?\")\n",
    "print('What\\'s your name?') \n",
    "print(\"The boy replies,\\nMy name is Atul\")\n",
    "print(\"The boy replies,\\tMy name is Atul\")"
   ]
  },
  {
   "cell_type": "code",
   "execution_count": 56,
   "id": "b6c78783",
   "metadata": {},
   "outputs": [
    {
     "name": "stdout",
     "output_type": "stream",
     "text": [
      "\\\n",
      "'\n",
      "\"\n",
      "Hello \n",
      " World\n",
      "Hello \t World\n",
      ".\n",
      ".\n",
      "\n"
     ]
    }
   ],
   "source": [
    "print(\"\\\\\")\n",
    "print(\"\\'\")\n",
    "print(\"\\\"\")\n",
    "print(\"Hello \\n World\")\n",
    "print(\"Hello \\t World\")\n",
    "print(\"\\056\") ###---- getting error\n",
    "print(\"\\x2E\")\n",
    "print(\"\\x87\")"
   ]
  },
  {
   "cell_type": "code",
   "execution_count": 57,
   "id": "1cc14b02",
   "metadata": {},
   "outputs": [
    {
     "name": "stdout",
     "output_type": "stream",
     "text": [
      "255 1 46\n"
     ]
    }
   ],
   "source": [
    "a=0xFF\n",
    "b=0b01\n",
    "c=0o56\n",
    "print(a,b,c)"
   ]
  },
  {
   "cell_type": "code",
   "execution_count": 61,
   "id": "707a3abc",
   "metadata": {},
   "outputs": [
    {
     "name": "stdout",
     "output_type": "stream",
     "text": [
      "15\n",
      "0o63\n",
      "41\n",
      "360\n",
      "0\n"
     ]
    }
   ],
   "source": [
    "print(0b1111)\n",
    "print(oct(51))\n",
    "print(0o51)\n",
    "print(360)\n",
    "print(0)"
   ]
  },
  {
   "cell_type": "markdown",
   "id": "a0f6cc40",
   "metadata": {},
   "source": [
    "## Assignment\n",
    "decimal to binary--- bin()\n",
    "decimal to oct--- oct()\n",
    "octal to decimal--- int()\n",
    "\n",
    "##### convert\n",
    "###### questions::\n",
    "###### 11011(binary)-- decimal\n",
    "###### 51(decimal) --octal\n",
    "###### 360(octal)--- decimal\n",
    "###### 51 (decimal)-- hexadecimal\n",
    "###### 33(hex)-- decimal"
   ]
  },
  {
   "cell_type": "markdown",
   "id": "33ef4690",
   "metadata": {},
   "source": []
  }
 ],
 "metadata": {
  "kernelspec": {
   "display_name": "Python 3",
   "language": "python",
   "name": "python3"
  },
  "language_info": {
   "codemirror_mode": {
    "name": "ipython",
    "version": 3
   },
   "file_extension": ".py",
   "mimetype": "text/x-python",
   "name": "python",
   "nbconvert_exporter": "python",
   "pygments_lexer": "ipython3",
   "version": "3.12.8"
  }
 },
 "nbformat": 4,
 "nbformat_minor": 5
}
