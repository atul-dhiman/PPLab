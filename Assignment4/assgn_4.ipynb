{
 "cells": [
  {
   "cell_type": "markdown",
   "id": "8ffab539",
   "metadata": {},
   "source": [
    "1) Write a Python function find_smallest_multiple(n: int) that uses a while loop to find the smallest\n",
    "positive integer x such that x is divisible by all numbers from 1 to n.  \n",
    "Conditions:  \n",
    "i. The function should keep incrementing x by 1 until it finds a number that satisfies the\n",
    "condition.  \n",
    "ii. Your solution should handle the edge case where n = 1 efficiently, returning 1 directly since 1\n",
    "is divisible by itself."
   ]
  },
  {
   "cell_type": "code",
   "execution_count": 1,
   "id": "5ec5ca17",
   "metadata": {},
   "outputs": [
    {
     "name": "stdout",
     "output_type": "stream",
     "text": [
      "1\n",
      "6\n",
      "60\n"
     ]
    }
   ],
   "source": [
    "def find_smallest_multiple(n: int) -> int:\n",
    "    # Handle edge case efficiently\n",
    "    if n == 1:\n",
    "        return 1\n",
    "    x = n  # Start checking from n, since the smallest multiple must be at least n\n",
    "    while True:\n",
    "        divisible = True\n",
    "        for i in range(1, n + 1):\n",
    "            if x % i != 0:\n",
    "                divisible = False\n",
    "                break\n",
    "        if divisible:\n",
    "            return x\n",
    "        x += 1  # Increment x until condition is satisfied\n",
    "print(find_smallest_multiple(1))  # Output: 1\n",
    "print(find_smallest_multiple(3))  # Output: 6  (since 6 % 1==0, 6 % 2==0, 6 % 3==0)\n",
    "print(find_smallest_multiple(5))  # Output: 60\n"
   ]
  },
  {
   "cell_type": "markdown",
   "id": "ccf8ccee",
   "metadata": {},
   "source": [
    "2) Write a function cubesum() that accepts an integer and returns the sum of the cubes of individual digits\n",
    "of that number. Use this function to make functions PrintArmstrong() and isArmstrong() to print\n",
    "Armstrong numbers and to find whether is an Armstrong number."
   ]
  },
  {
   "cell_type": "code",
   "execution_count": 2,
   "id": "47d30d78",
   "metadata": {},
   "outputs": [
    {
     "name": "stdout",
     "output_type": "stream",
     "text": [
      "Armstrong numbers between 1 and 1000:\n",
      "1 153 370 371 407 \n",
      "True\n",
      "True\n",
      "False\n"
     ]
    }
   ],
   "source": [
    "\n",
    "def cubesum(num: int) -> int:\n",
    "    total = 0\n",
    "    n = num\n",
    "    while n > 0:\n",
    "        digit = n % 10\n",
    "        total += digit ** 3\n",
    "        n //= 10\n",
    "    return total\n",
    "\n",
    "def isArmstrong(num: int) -> bool:\n",
    "    return num == cubesum(num)\n",
    "\n",
    "def PrintArmstrong(start: int, end: int) -> None:\n",
    "    print(f\"Armstrong numbers between {start} and {end}:\")\n",
    "    for i in range(start, end + 1):\n",
    "        if isArmstrong(i):\n",
    "            print(i, end=\" \")\n",
    "    print() \n",
    "\n",
    "PrintArmstrong(1, 1000)\n",
    "print(isArmstrong(153))  \n",
    "print(isArmstrong(370))  \n",
    "print(isArmstrong(123))  \n"
   ]
  },
  {
   "cell_type": "markdown",
   "id": "5833f711",
   "metadata": {},
   "source": [
    "3) Why is operator precedence important? Give an example where neglecting precedence changes the\n",
    "result."
   ]
  },
  {
   "cell_type": "code",
   "execution_count": null,
   "id": "9aabf40a",
   "metadata": {},
   "outputs": [],
   "source": [
    "# Operator precedence means that some operators are evaluated before others.\n",
    "# For example:\n",
    "\n",
    "# *, / have higher precedence than +, -.\n",
    "\n",
    "# Expressions inside parentheses () are evaluated first\n",
    "result = 10 + 5 * 2\n",
    "print(result)\n",
    "# How Python evaluates:\n",
    "\n",
    "# * has higher precedence than +\n",
    "\n",
    "# So it evaluates 5 * 2 = 10, then 10 + 10 = 20\n",
    "\n",
    "result = (10 + 5) * 2\n",
    "print(result)\n",
    "# Now parentheses force addition first:\n",
    "\n",
    "# (10 + 5) = 15, then 15 * 2 = 30"
   ]
  },
  {
   "cell_type": "markdown",
   "id": "257cc7a3",
   "metadata": {},
   "source": [
    "4) Write a program to input a decimal number and print its equivalent binary, octal, and hexadecimal\n",
    "using operators."
   ]
  },
  {
   "cell_type": "code",
   "execution_count": 4,
   "id": "e836154d",
   "metadata": {},
   "outputs": [
    {
     "name": "stdout",
     "output_type": "stream",
     "text": [
      "The entered number is: 2806\n",
      "Binary equivalent: 101011110110\n",
      "Octal equivalent: 5366\n",
      "Hexadecimal equivalent: AF6\n"
     ]
    }
   ],
   "source": [
    "def decimal_to_binary(n: int) -> str:\n",
    "    if n == 0:\n",
    "        return \"0\"\n",
    "    binary = \"\"\n",
    "    while n > 0:\n",
    "        binary = str(n % 2) + binary\n",
    "        n //= 2\n",
    "    return binary\n",
    "\n",
    "\n",
    "def decimal_to_octal(n: int) -> str:\n",
    "    if n == 0:\n",
    "        return \"0\"\n",
    "    octal = \"\"\n",
    "    while n > 0:\n",
    "        octal = str(n % 8) + octal\n",
    "        n //= 8\n",
    "    return octal\n",
    "\n",
    "\n",
    "def decimal_to_hexadecimal(n: int) -> str:\n",
    "    if n == 0:\n",
    "        return \"0\"\n",
    "    hex_chars = \"0123456789ABCDEF\"\n",
    "    hexa = \"\"\n",
    "    while n > 0:\n",
    "        remainder = n % 16\n",
    "        hexa = hex_chars[remainder] + hexa\n",
    "        n //= 16\n",
    "    return hexa\n",
    "\n",
    "num = int(input(\"Enter a decimal number: \"))\n",
    "print(f\"The entered number is: {num}\")\n",
    "\n",
    "print(\"Binary equivalent:\", decimal_to_binary(num))\n",
    "print(\"Octal equivalent:\", decimal_to_octal(num))\n",
    "print(\"Hexadecimal equivalent:\", decimal_to_hexadecimal(num))\n"
   ]
  },
  {
   "cell_type": "markdown",
   "id": "e447ec92",
   "metadata": {},
   "source": [
    "5) Write a Python function to create and print a list where the values are the squares of numbers between\n",
    "1 and 30 (both included)."
   ]
  },
  {
   "cell_type": "code",
   "execution_count": 6,
   "id": "0c3ea3fb",
   "metadata": {},
   "outputs": [
    {
     "name": "stdout",
     "output_type": "stream",
     "text": [
      "[1, 4, 9, 16, 25, 36, 49, 64, 81, 100, 121, 144, 169, 196, 225, 256, 289, 324, 361, 400, 441, 484, 529, 576, 625, 676, 729, 784, 841, 900]\n"
     ]
    }
   ],
   "source": [
    "def print_square_list():\n",
    "    squares = []               \n",
    "    for i in range(1, 31):     \n",
    "        squares.append(i ** 2) \n",
    "    print(squares)\n",
    "print_square_list()\n"
   ]
  },
  {
   "cell_type": "markdown",
   "id": "db7df854",
   "metadata": {},
   "source": [
    "6) Write a program that takes a sentence as input and counts the frequency of vowels, consonants, digits,\n",
    "and special characters separately"
   ]
  },
  {
   "cell_type": "code",
   "execution_count": 8,
   "id": "37f84b8f",
   "metadata": {},
   "outputs": [
    {
     "name": "stdout",
     "output_type": "stream",
     "text": [
      "The entered sentence is Atul Dhiman Artificial Intelligence\n",
      "Vowels: 14\n",
      "Consonants: 18\n",
      "Digits: 0\n",
      "Special Characters: 0\n"
     ]
    }
   ],
   "source": [
    "def count_characters(sentence: str):\n",
    "    vowels = \"aeiouAEIOU\"\n",
    "    vowel_count = consonant_count = digit_count = special_count = 0\n",
    "\n",
    "    for ch in sentence:\n",
    "        if ch.isalpha():  \n",
    "            if ch in vowels:\n",
    "                vowel_count += 1\n",
    "            else:\n",
    "                consonant_count += 1\n",
    "        elif ch.isdigit():  \n",
    "            digit_count += 1\n",
    "        elif not ch.isspace():  \n",
    "            special_count += 1\n",
    "\n",
    "    print(\"Vowels:\", vowel_count)\n",
    "    print(\"Consonants:\", consonant_count)\n",
    "    print(\"Digits:\", digit_count)\n",
    "    print(\"Special Characters:\", special_count)\n",
    "\n",
    "sentence = input(\"Enter a sentence: \")\n",
    "print(f\"The entered sentence is {sentence}\")\n",
    "count_characters(sentence)\n"
   ]
  },
  {
   "cell_type": "markdown",
   "id": "7eb34eef",
   "metadata": {},
   "source": [
    "8) Write a Python program to create a dictionary of students’ names as keys and their marks as values.\n",
    "Then:  \n",
    "A. Print the student with the highest marks  \n",
    "B. Print the student with the lowest marks"
   ]
  },
  {
   "cell_type": "code",
   "execution_count": 11,
   "id": "271acf5d",
   "metadata": {},
   "outputs": [
    {
     "name": "stdout",
     "output_type": "stream",
     "text": [
      "\n",
      "Student Marks Dictionary:\n",
      "{'Atul': 84.0, 'Reetik ': 85.0, 'Sahil': 82.0}\n",
      "\n",
      "Student with highest marks: Reetik  (85.0)\n",
      "Student with lowest marks: Sahil (82.0)\n"
     ]
    }
   ],
   "source": [
    "\n",
    "students = {}\n",
    "\n",
    "n = int(input(\"Enter the number of students: \"))\n",
    "\n",
    "for i in range(n):\n",
    "    name = input(f\"Enter name of student {i+1}: \")\n",
    "    marks = float(input(f\"Enter marks of {name}: \"))\n",
    "    students[name] = marks\n",
    "\n",
    "print(\"\\nStudent Marks Dictionary:\")\n",
    "print(students)\n",
    "\n",
    "highest_student = max(students, key=students.get)\n",
    "print(f\"\\nStudent with highest marks: {highest_student} ({students[highest_student]})\")\n",
    "\n",
    "lowest_student = min(students, key=students.get)\n",
    "print(f\"Student with lowest marks: {lowest_student} ({students[lowest_student]})\")\n"
   ]
  }
 ],
 "metadata": {
  "kernelspec": {
   "display_name": "Python 3",
   "language": "python",
   "name": "python3"
  },
  "language_info": {
   "codemirror_mode": {
    "name": "ipython",
    "version": 3
   },
   "file_extension": ".py",
   "mimetype": "text/x-python",
   "name": "python",
   "nbconvert_exporter": "python",
   "pygments_lexer": "ipython3",
   "version": "3.13.7"
  }
 },
 "nbformat": 4,
 "nbformat_minor": 5
}
