{
 "cells": [
  {
   "cell_type": "markdown",
   "id": "7c70354d",
   "metadata": {},
   "source": [
    "#### Ques1: Positive or Negative  \n",
    "Write a program to check whether a given number is positive, negative, or zero."
   ]
  },
  {
   "cell_type": "code",
   "execution_count": 1,
   "id": "36fae5ef",
   "metadata": {},
   "outputs": [
    {
     "name": "stdout",
     "output_type": "stream",
     "text": [
      "The entered number is: 6\n",
      "6 is a positive number\n"
     ]
    }
   ],
   "source": [
    "a=int(input(\"Enter the number \"))\n",
    "print(f\"The entered number is: {a}\")\n",
    "if (a>0):\n",
    "    print(f\"{a} is a positive number\")\n",
    "elif (a<0):\n",
    "    print(f\"{a} is a negative number\")\n",
    "elif (a==0):\n",
    "    print(f\"{a} is zero\")\n"
   ]
  },
  {
   "cell_type": "markdown",
   "id": "96c11a70",
   "metadata": {},
   "source": [
    "#### Ques 2: Even or Odd\n",
    "Write a program to check whether a given integer is even or odd."
   ]
  },
  {
   "cell_type": "code",
   "execution_count": 2,
   "id": "9d8a1061",
   "metadata": {},
   "outputs": [
    {
     "name": "stdout",
     "output_type": "stream",
     "text": [
      "6 is Even\n"
     ]
    }
   ],
   "source": [
    "num = int(input(\"Enter an integer: \"))\n",
    "if (num % 2 == 0):\n",
    "    print(num, \"is Even\")\n",
    "else:\n",
    "    print(num, \"is Odd\")"
   ]
  },
  {
   "cell_type": "markdown",
   "id": "d28d04a1",
   "metadata": {},
   "source": [
    "#### Ques 3: Largest of Two Numbers\n",
    "Write a program to input two numbers and print which one is larger."
   ]
  },
  {
   "cell_type": "code",
   "execution_count": 3,
   "id": "8c99a771",
   "metadata": {},
   "outputs": [
    {
     "name": "stdout",
     "output_type": "stream",
     "text": [
      "23 is greater than 21\n"
     ]
    }
   ],
   "source": [
    "num1=int(input(\"Enter first number\"))\n",
    "num2=int(input(\"Enter second number\"))\n",
    "if (num1>num2):\n",
    "    print(f\"{num1} is greater than {num2}\")\n",
    "elif (num2>num1):\n",
    "    print(f\"{num2} is greater than {num1}\")\n",
    "else:\n",
    "    print(f\"Both the numbers are equal\")"
   ]
  },
  {
   "cell_type": "markdown",
   "id": "35628b3d",
   "metadata": {},
   "source": [
    "#### Ques 4:Absolute Value\n",
    "Write a program to find the absolute value of a given number without using the abs()\n",
    "function."
   ]
  },
  {
   "cell_type": "code",
   "execution_count": 4,
   "id": "72771e01",
   "metadata": {},
   "outputs": [
    {
     "name": "stdout",
     "output_type": "stream",
     "text": [
      "Absolute value of -45.0 is: 45.0\n"
     ]
    }
   ],
   "source": [
    "num = float(input(\"Enter a number: \"))\n",
    "if num < 0:\n",
    "    absolute_value = -num\n",
    "else:\n",
    "    absolute_value = num\n",
    "print(\"Absolute value of\", num, \"is:\", absolute_value)"
   ]
  },
  {
   "cell_type": "markdown",
   "id": "0ca3c3e6",
   "metadata": {},
   "source": [
    "#### Ques 5:Eligibility for Voting\n",
    "Write a program to check whether a person is eligible to vote or not. (A person is\n",
    "eligible if their age is 18 or above)."
   ]
  },
  {
   "cell_type": "code",
   "execution_count": 6,
   "id": "bba4a2f7",
   "metadata": {},
   "outputs": [
    {
     "name": "stdout",
     "output_type": "stream",
     "text": [
      "You have 2 years to be eligible to vote\n"
     ]
    }
   ],
   "source": [
    "age=int(input(\"Enter the age: \"))\n",
    "if (age>=18):\n",
    "    print(\"Eligible to vote\")\n",
    "else:\n",
    "    age1=18-age\n",
    "    print(f\"You have {age1} years to be eligible to vote\")"
   ]
  },
  {
   "cell_type": "markdown",
   "id": "ea31f20e",
   "metadata": {},
   "source": [
    "#### Ques 6:Leap Year Check\n",
    "Write a program to check whether a given year is a leap year or not. (Hint: A leap year is\n",
    "divisible by 4, but not by 100 unless also divisible by 400)."
   ]
  },
  {
   "cell_type": "code",
   "execution_count": null,
   "id": "aa40df51",
   "metadata": {},
   "outputs": [
    {
     "name": "stdout",
     "output_type": "stream",
     "text": [
      "2024 is a Leap Year\n"
     ]
    }
   ],
   "source": [
    "year = int(input(\"Enter a year: \"))\n",
    "if (year % 400 == 0) or (year % 4 == 0 and year % 100 != 0):\n",
    "    print(year, \"is a Leap Year\")\n",
    "else:\n",
    "    print(year, \"is Not a Leap Year\")"
   ]
  },
  {
   "cell_type": "markdown",
   "id": "f2708333",
   "metadata": {},
   "source": [
    "#### Ques 7: Grade Calculation\n",
    "Write a program that takes marks as input and prints:\n",
    "- 'Pass' if marks are 40 or above\n",
    "- 'Fail' if marks are less than 40"
   ]
  },
  {
   "cell_type": "code",
   "execution_count": 12,
   "id": "5687fa5e",
   "metadata": {},
   "outputs": [
    {
     "name": "stdout",
     "output_type": "stream",
     "text": [
      "The entered marks are 82.6\n",
      "Pass\n"
     ]
    }
   ],
   "source": [
    "marks = float(input(\"Enter your marks: \"))\n",
    "print(f\"The entered marks are {marks}\")\n",
    "if marks >= 40:\n",
    "    print(\"Pass\")\n",
    "else:\n",
    "    print(\"Fail\")"
   ]
  },
  {
   "cell_type": "markdown",
   "id": "4a3cb695",
   "metadata": {},
   "source": [
    "#### Ques 8: Multiple of 5\n",
    "Write a program to check whether a given number is a multiple of 5."
   ]
  },
  {
   "cell_type": "code",
   "execution_count": 13,
   "id": "3e7d5bd8",
   "metadata": {},
   "outputs": [
    {
     "name": "stdout",
     "output_type": "stream",
     "text": [
      "60 is a multiple of 5\n"
     ]
    }
   ],
   "source": [
    "num = int(input(\"Enter a number: \"))\n",
    "if num % 5 == 0:\n",
    "    print(num, \"is a multiple of 5\")\n",
    "else:\n",
    "    print(num, \"is not a multiple of 5\")"
   ]
  },
  {
   "cell_type": "markdown",
   "id": "2d2cb8a3",
   "metadata": {},
   "source": [
    "#### Ques 9: Character Case Check\n",
    "Write a program to input a character and check whether it is an uppercase letter,\n",
    "lowercase letter, or not a letter."
   ]
  },
  {
   "cell_type": "code",
   "execution_count": 14,
   "id": "af40e66b",
   "metadata": {},
   "outputs": [
    {
     "name": "stdout",
     "output_type": "stream",
     "text": [
      "A is an Uppercase letter\n"
     ]
    }
   ],
   "source": [
    "ch = input(\"Enter a character: \")\n",
    "if len(ch) == 1:\n",
    "    if 'A' <= ch <= 'Z':\n",
    "        print(ch, \"is an Uppercase letter\")\n",
    "    elif 'a' <= ch <= 'z':\n",
    "        print(ch, \"is a Lowercase letter\")\n",
    "    else:\n",
    "        print(ch, \"is not a letter\")\n",
    "else:\n",
    "    print(\"Please enter only one character.\")\n"
   ]
  },
  {
   "cell_type": "markdown",
   "id": "6d4fae0b",
   "metadata": {},
   "source": [
    "#### Ques 10: Discount Calculator\n",
    "Write a program that calculates the discount:\n",
    "\n",
    "- If purchase amount is greater than or equal to 1000, apply a 10% discount.\n",
    "- Otherwise, no discount.\n",
    "Finally, print the final bill amount."
   ]
  },
  {
   "cell_type": "code",
   "execution_count": 15,
   "id": "17cb9f53",
   "metadata": {},
   "outputs": [
    {
     "name": "stdout",
     "output_type": "stream",
     "text": [
      "Purchase Amount: 1200.0\n",
      "Discount Applied: 120.0\n",
      "Final Bill Amount: 1080.0\n"
     ]
    }
   ],
   "source": [
    "amount = float(input(\"Enter the purchase amount: \"))\n",
    "if amount >= 1000:\n",
    "    discount = amount * 0.10   \n",
    "    final_amount = amount - discount\n",
    "else:\n",
    "    discount = 0\n",
    "    final_amount = amount\n",
    "print(\"Purchase Amount:\", amount)\n",
    "print(\"Discount Applied:\", discount)\n",
    "print(\"Final Bill Amount:\", final_amount)"
   ]
  },
  {
   "cell_type": "code",
   "execution_count": null,
   "id": "913392a7",
   "metadata": {},
   "outputs": [],
   "source": []
  }
 ],
 "metadata": {
  "kernelspec": {
   "display_name": "Python 3",
   "language": "python",
   "name": "python3"
  },
  "language_info": {
   "codemirror_mode": {
    "name": "ipython",
    "version": 3
   },
   "file_extension": ".py",
   "mimetype": "text/x-python",
   "name": "python",
   "nbconvert_exporter": "python",
   "pygments_lexer": "ipython3",
   "version": "3.12.8"
  }
 },
 "nbformat": 4,
 "nbformat_minor": 5
}
