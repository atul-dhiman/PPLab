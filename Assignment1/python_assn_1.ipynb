{
 "cells": [
  {
   "cell_type": "markdown",
   "id": "fc5da9ff",
   "metadata": {},
   "source": [
    "# Python Assignment 1"
   ]
  },
  {
   "cell_type": "markdown",
   "id": "c8b3bb6f",
   "metadata": {},
   "source": [
    "#### Question 1:  \n",
    "Write a Python program to get a list, sorted in increasing order by the last element in   \n",
    "each tuple from a given list of non-empty tuples.\n",
    "Sample List : [(2, 5), (1, 2), (4, 4), (2, 3), (2, 1)]"
   ]
  },
  {
   "cell_type": "code",
   "execution_count": 1,
   "id": "d7612ae1",
   "metadata": {},
   "outputs": [
    {
     "name": "stdout",
     "output_type": "stream",
     "text": [
      "Sorted List: [(2, 1), (1, 2), (2, 3), (4, 4), (2, 5)]\n"
     ]
    }
   ],
   "source": [
    "sample_list = [(2, 5), (1, 2), (4, 4), (2, 3), (2, 1)]\n",
    "sorted_list = sorted(sample_list, key=lambda x: x[-1])\n",
    "print(\"Sorted List:\", sorted_list)"
   ]
  },
  {
   "cell_type": "markdown",
   "id": "425da9fe",
   "metadata": {},
   "source": [
    "#### Question 2:  \n",
    "Write a Python program to get a string from a given string where all occurrences of its \n",
    "first char have been changed to '$', except the first char itself. Sample String : 'restart'"
   ]
  },
  {
   "cell_type": "code",
   "execution_count": null,
   "id": "7b75b03a",
   "metadata": {},
   "outputs": [],
   "source": [
    "def replace_char(s):\n",
    "    first_char = s[0]\n",
    "    modified = first_char + s[1:].replace(first_char, '$')\n",
    "    return modified\n",
    "\n",
    "sample_str = \"restart\"\n",
    "print(\"Original String:\", sample_str)\n",
    "print(\"Modified String:\", replace_char(sample_str))\n"
   ]
  },
  {
   "cell_type": "markdown",
   "id": "4dd265d4",
   "metadata": {},
   "source": [
    "#### Question 3:  \n",
    "Write a Python program to find the first appearance of the substring 'not' and 'poor' from \n",
    "a given string, if 'bad' follows the 'poor', replace the whole 'not'...'poor' substring with 'good'. \n",
    "Return the resulting string.  \n",
    "Sample String : 'The lyrics is not that poor!'\n"
   ]
  },
  {
   "cell_type": "code",
   "execution_count": 2,
   "id": "512dbbb7",
   "metadata": {},
   "outputs": [
    {
     "name": "stdout",
     "output_type": "stream",
     "text": [
      "Original String: The lyrics is not that poor!\n",
      "Modified String: The lyrics is good!\n"
     ]
    }
   ],
   "source": [
    "def not_poor_replace(s):\n",
    "    not_index = s.find('not')\n",
    "    poor_index = s.find('poor')\n",
    "    if not_index != -1 and poor_index != -1 and poor_index > not_index:\n",
    "        s = s[:not_index] + 'good' + s[poor_index + 4:]\n",
    "    return s\n",
    "sample_str = \"The lyrics is not that poor!\"\n",
    "print(\"Original String:\", sample_str)\n",
    "print(\"Modified String:\", not_poor_replace(sample_str))"
   ]
  },
  {
   "cell_type": "markdown",
   "id": "e37e2401",
   "metadata": {},
   "source": [
    "#### Question 4:  \n",
    "Write a python program to sort a dictionary by value."
   ]
  },
  {
   "cell_type": "code",
   "execution_count": 9,
   "id": "530a985e",
   "metadata": {},
   "outputs": [
    {
     "name": "stdout",
     "output_type": "stream",
     "text": [
      "Dictionary sorted by value:\n",
      "{'banana': 2, 'date': 5, 'cherry': 7, 'apple': 10}\n"
     ]
    }
   ],
   "source": [
    "my_dict = {'apple': 10, 'banana': 2, 'cherry': 7, 'date': 5}\n",
    "\n",
    "sorted_dict = dict(sorted(my_dict.items(), key=lambda item: item[1]))\n",
    "\n",
    "print(\"Dictionary sorted by value:\")\n",
    "print(sorted_dict)"
   ]
  },
  {
   "cell_type": "markdown",
   "id": "bdb4340f",
   "metadata": {},
   "source": [
    "#### Question 5:  \n",
    "Write a python program to add key to a dictionary."
   ]
  },
  {
   "cell_type": "code",
   "execution_count": 3,
   "id": "afb66931",
   "metadata": {},
   "outputs": [
    {
     "name": "stdout",
     "output_type": "stream",
     "text": [
      "Original dictionary: {'name': 'Atul', 'age': 23}\n",
      "Dictionary after adding new key: {'name': 'Atul', 'age': 23, 'city': 'Dharamshala'}\n",
      "Final dictionary: {'name': 'Atul', 'age': 23, 'city': 'Dharamshala', 'country': 'India', 'pincode': 176217}\n"
     ]
    }
   ],
   "source": [
    "my_dict = {\"name\": \"Atul\", \"age\": 23}\n",
    "print(\"Original dictionary:\", my_dict)\n",
    "my_dict[\"city\"] = \"Dharamshala\"\n",
    "print(\"Dictionary after adding new key:\", my_dict)\n",
    "my_dict[\"country\"] = \"India\"\n",
    "my_dict.update({\"pincode\": 176217})\n",
    "print(\"Final dictionary:\", my_dict)"
   ]
  }
 ],
 "metadata": {
  "kernelspec": {
   "display_name": "Python 3",
   "language": "python",
   "name": "python3"
  },
  "language_info": {
   "codemirror_mode": {
    "name": "ipython",
    "version": 3
   },
   "file_extension": ".py",
   "mimetype": "text/x-python",
   "name": "python",
   "nbconvert_exporter": "python",
   "pygments_lexer": "ipython3",
   "version": "3.12.8"
  }
 },
 "nbformat": 4,
 "nbformat_minor": 5
}
