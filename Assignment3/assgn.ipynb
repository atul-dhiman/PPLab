{
 "cells": [
  {
   "cell_type": "markdown",
   "id": "392cd0f8",
   "metadata": {},
   "source": [
    "# Assignment 3  \n",
    "## Atul Dhiman\n",
    "### 25901325"
   ]
  },
  {
   "cell_type": "markdown",
   "id": "9ab0b3d3",
   "metadata": {},
   "source": [
    "1) Generate all prime numbers less than 100.Print them in a spiral format (like a clockwise\n",
    "square spiral) of minimal size that fits all primes."
   ]
  },
  {
   "cell_type": "code",
   "execution_count": null,
   "id": "26e1f3f4",
   "metadata": {},
   "outputs": [
    {
     "name": "stdout",
     "output_type": "stream",
     "text": [
      "Prime numbers less than 100 in a spiral format:\n",
      "02 03 05 07 11\n",
      "53 59 61 67 13\n",
      "47 89 97 71 17\n",
      "43 83 79 73 19\n",
      "41 37 31 29 23\n"
     ]
    }
   ],
   "source": [
    "import math\n",
    "def is_prime(n):\n",
    "    \"\"\"Checks if a number is prime.\"\"\"\n",
    "    if n < 2:\n",
    "        return False\n",
    "    for i in range(2, int(math.sqrt(n)) + 1):\n",
    "        if n % i == 0:\n",
    "            return False\n",
    "    return True\n",
    "\n",
    "primes = [i for i in range(100) if is_prime(i)]\n",
    "\n",
    "size = int(math.ceil(math.sqrt(len(primes))))\n",
    "if size % 2 == 0:\n",
    "    size += 1\n",
    "\n",
    "spiral = [['  ' for _ in range(size)] for _ in range(size)]\n",
    "\n",
    "x, y = 0, 0\n",
    "dx, dy = 1, 0\n",
    "prime_idx = 0\n",
    "for _ in range(size*size):\n",
    "    if 0 <= x < size and 0 <= y < size and spiral[y][x] == '  ' and prime_idx < len(primes):\n",
    "        spiral[y][x] = str(primes[prime_idx]).zfill(2)\n",
    "        prime_idx += 1\n",
    "\n",
    "    nx, ny = x + dx, y + dy\n",
    "    if not (0 <= nx < size and 0 <= ny < size and spiral[ny][nx] == '  '):\n",
    "        dx, dy = -dy, dx\n",
    "    x, y = x + dx, y + dy\n",
    "print(\"Prime numbers less than 100 in a spiral format:\")\n",
    "for row in spiral:\n",
    "    print(' '.join(row))"
   ]
  },
  {
   "cell_type": "markdown",
   "id": "38d6126d",
   "metadata": {},
   "source": [
    "2) You are a data analyst at a streaming platform, managing user interactions, analytics,\n",
    "and daily operations. Use a for loop to create a text-based graph of hourly views. For\n",
    "example, use * to represent every 5 views."
   ]
  },
  {
   "cell_type": "code",
   "execution_count": null,
   "id": "1b5534e7",
   "metadata": {},
   "outputs": [
    {
     "name": "stdout",
     "output_type": "stream",
     "text": [
      "Hourly Views Analysis\n",
      "Key: * = 5 views\n",
      "\n",
      "00:00 |  (Total: 4)\n",
      "01:00 | * (Total: 8)\n",
      "02:00 | ** (Total: 11)\n",
      "03:00 | ** (Total: 14)\n",
      "04:00 | *** (Total: 19)\n",
      "05:00 | ***** (Total: 26)\n",
      "06:00 | ******* (Total: 38)\n",
      "07:00 | ********* (Total: 49)\n",
      "08:00 | *********** (Total: 57)\n",
      "09:00 | ********** (Total: 52)\n",
      "10:00 | ********* (Total: 48)\n",
      "11:00 | ********* (Total: 49)\n",
      "12:00 | ********** (Total: 53)\n",
      "13:00 | ************ (Total: 62)\n",
      "14:00 | ************** (Total: 74)\n",
      "15:00 | ***************** (Total: 88)\n",
      "16:00 | ******************** (Total: 103)\n",
      "17:00 | ********************** (Total: 114)\n",
      "18:00 | ************************ (Total: 120)\n",
      "19:00 | ********************* (Total: 109)\n",
      "20:00 | ****************** (Total: 93)\n",
      "21:00 | *************** (Total: 77)\n",
      "22:00 | ********* (Total: 46)\n",
      "23:00 | ***** (Total: 28)\n"
     ]
    }
   ],
   "source": [
    "\n",
    "hourly_views = [4, 8, 11, 14, 19, 26, 38, 49, 57, 52, 48, 49, 53, 62, 74, 88, 103, 114, 120, 109, 93, 77, 46, 28]\n",
    "\n",
    "print(\"Hourly Views Analysis\")\n",
    "print(\"Key: * = 5 views\\n\")\n",
    "\n",
    "for hour, views in enumerate(hourly_views):\n",
    "    \n",
    "    num_asterisks = views // 5\n",
    "    \n",
    "    graph_bar = \"*\" * num_asterisks\n",
    "    \n",
    "    print(f\"{hour:02d}:00 | {graph_bar} (Total: {views})\")"
   ]
  },
  {
   "cell_type": "markdown",
   "id": "a3168638",
   "metadata": {},
   "source": [
    "3) Each video watched generates revenue based on ad impressions:\n",
    "- First 10 views: $0.50 per view\n",
    "- Next 20 views: $0.30 per view\n",
    "- Remaining views: $0.10 per view  \n",
    "You are given hourly views for the day. Calculate total daily revenue."
   ]
  },
  {
   "cell_type": "code",
   "execution_count": null,
   "id": "7303b58e",
   "metadata": {},
   "outputs": [
    {
     "name": "stdout",
     "output_type": "stream",
     "text": [
      "Total Daily Views: 1342\n",
      "Total Daily Revenue: $142.20\n"
     ]
    }
   ],
   "source": [
    "def calculate_daily_revenue(views_data):\n",
    "    total_views = sum(views_data)\n",
    "    revenue = 0.0\n",
    "    if total_views <= 0:\n",
    "        return 0.0\n",
    "    tier1_views = min(total_views, 10)\n",
    "    revenue += tier1_views * 0.50\n",
    "    if total_views > 10:\n",
    "        remaining_views_after_tier1 = total_views - 10\n",
    "        tier2_views = min(remaining_views_after_tier1, 20)\n",
    "        revenue += tier2_views * 0.30\n",
    "    \n",
    "    if total_views > 30:\n",
    "        tier3_views = total_views - 30\n",
    "        revenue += tier3_views * 0.10\n",
    "      \n",
    "    return revenue\n",
    "hourly_views = [4, 8, 11, 14, 19, 26, 38, 49, 57, 52, 48, 49, 53, 62, 74, 88, 103, 114, 120, 109, 93, 77, 46, 28]\n",
    "total_revenue = calculate_daily_revenue(hourly_views)\n",
    "print(f\"Total Daily Views: {sum(hourly_views)}\")\n",
    "print(f\"Total Daily Revenue: ${total_revenue:.2f}\")"
   ]
  },
  {
   "cell_type": "code",
   "execution_count": null,
   "id": "cc708342",
   "metadata": {},
   "outputs": [],
   "source": []
  }
 ],
 "metadata": {
  "kernelspec": {
   "display_name": "Python 3",
   "language": "python",
   "name": "python3"
  },
  "language_info": {
   "codemirror_mode": {
    "name": "ipython",
    "version": 3
   },
   "file_extension": ".py",
   "mimetype": "text/x-python",
   "name": "python",
   "nbconvert_exporter": "python",
   "pygments_lexer": "ipython3",
   "version": "3.13.7"
  }
 },
 "nbformat": 4,
 "nbformat_minor": 5
}
